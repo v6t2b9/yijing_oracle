{
 "cells": [
  {
   "cell_type": "markdown",
   "metadata": {},
   "source": [
    "# Yijing Oracle System Tests\n",
    "\n",
    "This notebook provides comprehensive testing of the Yijing Oracle implementation. We'll test:\n",
    "1. Basic initialization and configuration\n",
    "2. Hexagram generation and transformation\n",
    "3. Single consultation mode\n",
    "4. Dialogue consultation mode\n",
    "5. Error handling and edge cases"
   ]
  },
  {
   "cell_type": "code",
   "execution_count": null,
   "metadata": {},
   "outputs": [],
   "source": [
    "import os\n",
    "import sys\n",
    "from pathlib import Path\n",
    "import logging\n",
    "from typing import Dict, Any\n",
    "from IPython.display import display, Markdown\n",
    "from pydantic_settings import BaseSettings\n",
    "\n",
    "from yijing import settings, LogLevel"
   ]
  },
  {
   "cell_type": "code",
   "execution_count": null,
   "metadata": {},
   "outputs": [],
   "source": [
    "# Configure logging\n",
    "logging.basicConfig(level=logging.INFO)\n",
    "\n",
    "# Set debug mode for detailed output\n",
    "settings.debug = True\n",
    "settings.log_level = LogLevel.DEBUG\n",
    "\n",
    "# Verify settings\n",
    "print(f\"Current log level: {settings.log_level}\")\n",
    "print(f\"Debug mode: {settings.debug}\")"
   ]
  },
  {
   "cell_type": "code",
   "execution_count": null,
   "metadata": {},
   "outputs": [],
   "source": [
    "\n",
    "# Add project root to Python path if needed\n",
    "project_root = Path.cwd().parent\n",
    "if str(project_root) not in sys.path:\n",
    "    sys.path.append(str(project_root))\n",
    "\n",
    "# Import all relevant modules\n",
    "from yijing import (\n",
    "    YijingOracle,\n",
    "    ask_oracle,\n",
    "    settings,\n",
    "    ConsultationMode,\n",
    "    LogLevel,\n",
    "    Hypergram,\n",
    "    HypergramLine,\n",
    "    Hexagram,\n",
    "    HexagramLine\n",
    ")"
   ]
  },
  {
   "cell_type": "markdown",
   "metadata": {},
   "source": [
    "## 1. Configuration and Setup"
   ]
  },
  {
   "cell_type": "code",
   "execution_count": null,
   "metadata": {},
   "outputs": [],
   "source": [
    "def print_config():\n",
    "    \"\"\"Print current configuration settings\"\"\"\n",
    "    print(\"Current Configuration:\")\n",
    "    print(f\"Model Name: {settings.model_name}\")\n",
    "    print(f\"Consultation Mode: {settings.consultation_mode}\")\n",
    "    print(f\"Log Level: {settings.log_level}\")\n",
    "    print(f\"Resources Directory: {settings.resources_dir}\")\n",
    "    print(f\"Debug Mode: {settings.debug}\")\n",
    "\n",
    "print_config()"
   ]
  },
  {
   "cell_type": "markdown",
   "metadata": {},
   "source": [
    "## 2. Test Hexagram Generation"
   ]
  },
  {
   "cell_type": "code",
   "execution_count": null,
   "metadata": {},
   "outputs": [],
   "source": [
    "def test_hexagram_generation():\n",
    "    \"\"\"Test the generation and transformation of hexagrams\"\"\"\n",
    "    # Create a test hypergram with known values\n",
    "    test_lines = [\n",
    "        HypergramLine(value=6),  # Changing Yin\n",
    "        HypergramLine(value=7),  # Stable Yang\n",
    "        HypergramLine(value=8),  # Stable Yin\n",
    "        HypergramLine(value=9),  # Changing Yang\n",
    "        HypergramLine(value=7),  # Stable Yang\n",
    "        HypergramLine(value=8)   # Stable Yin\n",
    "    ]\n",
    "    \n",
    "    hypergram = Hypergram(lines=test_lines)\n",
    "    \n",
    "    print(\"Test Hypergram:\")\n",
    "    for i, line in enumerate(hypergram.lines, 1):\n",
    "        print(f\"Line {i}: Value={line.value}, Type={line.line_type}\")\n",
    "    \n",
    "    old_hex = hypergram.old_hexagram()\n",
    "    new_hex = hypergram.new_hexagram()\n",
    "    changing = hypergram.changing_lines()\n",
    "    \n",
    "    print(\"\\nHexagram Analysis:\")\n",
    "    print(f\"Old Hexagram: {old_hex.to_unicode_representation()}\")\n",
    "    print(f\"New Hexagram: {new_hex.to_unicode_representation()}\")\n",
    "    print(f\"Changing Lines: {changing}\")\n",
    "\n",
    "test_hexagram_generation()"
   ]
  },
  {
   "cell_type": "markdown",
   "metadata": {},
   "source": [
    "## 3. Test Single Consultation Mode"
   ]
  },
  {
   "cell_type": "code",
   "execution_count": null,
   "metadata": {},
   "outputs": [],
   "source": [
    "def test_single_consultation():\n",
    "    \"\"\"Test the oracle in single consultation mode\"\"\"\n",
    "    settings.consultation_mode = ConsultationMode.SINGLE\n",
    "    oracle = YijingOracle()\n",
    "    \n",
    "    question = \"What opportunities should I focus on today?\"\n",
    "    response = oracle.get_response(question)\n",
    "    \n",
    "    print(f\"Question: {question}\\n\")\n",
    "    display(Markdown(response['answer']))\n",
    "    \n",
    "    print(\"\\nHexagram Data:\")\n",
    "    hypergram_data = response['hypergram_data']\n",
    "    print(f\"Timestamp: {response['timestamp']}\")\n",
    "    print(f\"Model Used: {response['model_used']}\")\n",
    "    print(f\"Consultation Mode: {response['consultation_mode']}\")\n",
    "\n",
    "test_single_consultation()"
   ]
  },
  {
   "cell_type": "markdown",
   "metadata": {},
   "source": [
    "## 4. Test Dialogue Consultation Mode"
   ]
  },
  {
   "cell_type": "code",
   "execution_count": null,
   "metadata": {},
   "outputs": [],
   "source": [
    "def test_dialogue_consultation():\n",
    "    \"\"\"Test the oracle in dialogue consultation mode\"\"\"\n",
    "    settings.consultation_mode = ConsultationMode.DIALOGUE\n",
    "    oracle = YijingOracle()\n",
    "    oracle.start_new_consultation()\n",
    "    \n",
    "    questions = [\n",
    "        \"What does my current situation look like?\",\n",
    "        \"How should I interpret the changing lines?\",\n",
    "        \"What advice does the new hexagram offer?\"\n",
    "    ]\n",
    "    \n",
    "    for i, question in enumerate(questions, 1):\n",
    "        print(f\"\\nQuestion {i}: {question}\\n\")\n",
    "        response = oracle.get_response(question)\n",
    "        display(Markdown(response['answer']))\n",
    "        print(\"\\n---\")\n",
    "\n",
    "test_dialogue_consultation()"
   ]
  },
  {
   "cell_type": "markdown",
   "metadata": {},
   "source": [
    "## 5. Error Handling Tests"
   ]
  },
  {
   "cell_type": "code",
   "execution_count": null,
   "metadata": {},
   "outputs": [],
   "source": [
    "def test_error_handling():\n",
    "    \"\"\"Test error handling in various scenarios\"\"\"\n",
    "    print(\"Testing invalid hexagram creation...\")\n",
    "    try:\n",
    "        # Try to create a hexagram with too few lines\n",
    "        invalid_lines = [HypergramLine(value=7) for _ in range(5)]\n",
    "        Hypergram(lines=invalid_lines)\n",
    "    except ValueError as e:\n",
    "        print(f\"Expected error caught: {e}\")\n",
    "    \n",
    "    print(\"\\nTesting invalid line values...\")\n",
    "    try:\n",
    "        # Try to create a line with an invalid value\n",
    "        HypergramLine(value=5)\n",
    "    except ValueError as e:\n",
    "        print(f\"Expected error caught: {e}\")\n",
    "\n",
    "test_error_handling()"
   ]
  },
  {
   "cell_type": "markdown",
   "metadata": {},
   "source": [
    "## 6. Performance Testing"
   ]
  },
  {
   "cell_type": "code",
   "execution_count": null,
   "metadata": {},
   "outputs": [],
   "source": [
    "def test_performance():\n",
    "    \"\"\"Test performance of hexagram generation and consultation\"\"\"\n",
    "    import time\n",
    "    \n",
    "    # Test hexagram generation performance\n",
    "    start_time = time.time()\n",
    "    iterations = 100\n",
    "    \n",
    "    for _ in range(iterations):\n",
    "        hypergram_data = cast_hypergram()\n",
    "    \n",
    "    duration = time.time() - start_time\n",
    "    print(f\"Generated {iterations} hexagrams in {duration:.2f} seconds\")\n",
    "    print(f\"Average time per hexagram: {(duration/iterations)*1000:.2f} ms\")\n",
    "\n",
    "test_performance()"
   ]
  },
  {
   "cell_type": "markdown",
   "metadata": {},
   "source": [
    "## 7. Resource Loading Test"
   ]
  },
  {
   "cell_type": "code",
   "execution_count": null,
   "metadata": {},
   "outputs": [],
   "source": [
    "def test_resource_loading():\n",
    "    \"\"\"Test loading of system resources\"\"\"\n",
    "    try:\n",
    "        resources = settings.load_resources()\n",
    "        print(\"Resources loaded successfully!\")\n",
    "        \n",
    "        for resource_name, content in resources.items():\n",
    "            print(f\"\\n{resource_name}:\")\n",
    "            print(f\"Content length: {len(content)} characters\")\n",
    "            print(f\"Preview: {content[:100]}...\")\n",
    "            \n",
    "    except Exception as e:\n",
    "        print(f\"Error loading resources: {e}\")\n",
    "\n",
    "test_resource_loading()"
   ]
  },
  {
   "cell_type": "code",
   "execution_count": null,
   "metadata": {},
   "outputs": [],
   "source": []
  }
 ],
 "metadata": {
  "kernelspec": {
   "display_name": "gemini_310",
   "language": "python",
   "name": "python3"
  },
  "language_info": {
   "codemirror_mode": {
    "name": "ipython",
    "version": 3
   },
   "file_extension": ".py",
   "mimetype": "text/x-python",
   "name": "python",
   "nbconvert_exporter": "python",
   "pygments_lexer": "ipython3",
   "version": "3.10.15"
  }
 },
 "nbformat": 4,
 "nbformat_minor": 4
}
