{
 "cells": [
  {
   "cell_type": "markdown",
   "metadata": {},
   "source": [
    "# Yijing Modul Debug Notebook\n",
    "\n",
    "Dieses Notebook dient zum systematischen Testen und Debuggen des Yijing-Moduls."
   ]
  },
  {
   "cell_type": "code",
   "execution_count": null,
   "metadata": {},
   "source": [
    "# Imports und Setup\n",
    "import sys\n",
    "from pathlib import Path\n",
    "import logging\n",
    "\n",
    "# Logging Setup\n",
    "logging.basicConfig(\n",
    "    level=logging.DEBUG,\n",
    "    format='%(asctime)s - %(name)s - %(levelname)s - %(message)s'\n",
    ")\n",
    "\n",
    "# Projektpfad zum Python-Path hinzufügen\n",
    "project_dir = Path.cwd()  # Da das Notebook im Root liegt\n",
    "if str(project_dir) not in sys.path:\n",
    "    sys.path.insert(0, str(project_dir))\n",
    "\n",
    "# Yijing Module importieren\n",
    "from yijing import (\n",
    "    YijingOracle,\n",
    "    settings,\n",
    "    ConsultationMode,\n",
    "    cast_hypergram,\n",
    "    generiere_erweiterte_weissagung,\n",
    "    formatiere_weissagung_markdown\n",
    ")"
   ]
  },
  {
   "cell_type": "markdown",
   "metadata": {},
   "source": [
    "## Test 1: Grundlegende Modell-Komponenten"
   ]
  },
  {
   "cell_type": "code",
   "execution_count": null,
   "metadata": {},
   "source": [
    "# Test der Hexagramm-Generierung\n",
    "hypergram_data = cast_hypergram()\n",
    "\n",
    "print(\"Generiertes Hypergramm:\")\n",
    "print(f\"Altes Hexagramm: {hypergram_data.old_hexagram.to_unicode_representation()}\")\n",
    "print(f\"Wandelnde Linien: {hypergram_data.changing_lines}\")\n",
    "print(f\"Neues Hexagramm: {hypergram_data.new_hexagram.to_unicode_representation()}\")"
   ]
  },
  {
   "cell_type": "markdown",
   "metadata": {},
   "source": [
    "## Test 2: Erweiterte Weissagung"
   ]
  },
  {
   "cell_type": "code",
   "execution_count": null,
   "metadata": {},
   "source": [
    "# Teste die erweiterte Weissagung mit spezifischen Linienwerten\n",
    "test_linien = [7, 7, 6, 9, 7, 7]  # Beispiel-Linienwerte\n",
    "weissagung = generiere_erweiterte_weissagung(test_linien)\n",
    "\n",
    "# Formatierte Ausgabe\n",
    "print(formatiere_weissagung_markdown(weissagung))"
   ]
  },
  {
   "cell_type": "markdown",
   "metadata": {},
   "source": [
    "## Test 3: Orakel-Integration"
   ]
  },
  {
   "cell_type": "code",
   "execution_count": null,
   "metadata": {},
   "source": [
    "# API-Key aus Umgebungsvariable\n",
    "import os\n",
    "api_key = os.getenv(\"GENAI_API_KEY\")\n",
    "\n",
    "if not api_key:\n",
    "    raise ValueError(\"GENAI_API_KEY Umgebungsvariable nicht gefunden!\")\n",
    "\n",
    "# Orakel initialisieren\n",
    "oracle = YijingOracle(api_key=api_key)\n",
    "\n",
    "# Testfrage stellen\n",
    "test_question = \"Was soll ich bei meiner beruflichen Entwicklung beachten?\"\n",
    "response = oracle.get_response(test_question)\n",
    "\n",
    "print(\"Orakel-Antwort:\")\n",
    "print(response['answer'])\n",
    "print(\"\\nVerwendetes Hexagramm:\")\n",
    "print(f\"Original: {response['hexagram_context']['original']}\")\n",
    "print(f\"Wandelnde Linien: {response['hexagram_context']['changing_lines']}\")\n",
    "print(f\"Resultierend: {response['hexagram_context']['resulting']}\")"
   ]
  },
  {
   "cell_type": "markdown",
   "metadata": {},
   "source": [
    "## Test 4: Fehlerbehandlung"
   ]
  },
  {
   "cell_type": "code",
   "execution_count": null,
   "metadata": {},
   "source": [
    "def test_error_cases():\n",
    "    \"\"\"Teste verschiedene Fehlerfälle\"\"\"\n",
    "    try:\n",
    "        # Test mit ungültigen Linienwerten\n",
    "        invalid_lines = [1, 2, 3, 4, 5, 6]\n",
    "        weissagung = generiere_erweiterte_weissagung(invalid_lines)\n",
    "    except ValueError as e:\n",
    "        print(f\"Erwarteter Fehler bei ungültigen Linienwerten: {e}\")\n",
    "    \n",
    "    try:\n",
    "        # Test mit falscher Linienanzahl\n",
    "        too_few_lines = [7, 7, 7, 7, 7]\n",
    "        weissagung = generiere_erweiterte_weissagung(too_few_lines)\n",
    "    except ValueError as e:\n",
    "        print(f\"Erwarteter Fehler bei falscher Linienanzahl: {e}\")\n",
    "\n",
    "test_error_cases()"
   ]
  }
 ],
 "metadata": {
  "kernelspec": {
   "display_name": "Python 3",
   "language": "python",
   "name": "python3"
  },
  "language_info": {
   "codemirror_mode": {
    "name": "ipython",
    "version": 3
   },
   "file_extension": ".py",
   "mimetype": "text/x-python",
   "name": "python",
   "nbconvert_exporter": "python",
   "pygments_lexer": "ipython3",
   "version": "3.8.0"
  }
 },
 "nbformat": 4,
 "nbformat_minor": 4
}