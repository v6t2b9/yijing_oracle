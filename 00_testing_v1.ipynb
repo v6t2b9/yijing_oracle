{
 "cells": [
  {
   "cell_type": "markdown",
   "metadata": {},
   "source": [
    "# Yijing Modul Debug Notebook\n",
    "\n",
    "Dieses Notebook dient zum systematischen Testen und Debuggen des Yijing-Moduls."
   ]
  },
  {
   "cell_type": "code",
   "execution_count": 1,
   "metadata": {},
   "outputs": [],
   "source": [
    "# Imports und Setup\n",
    "import sys\n",
    "from pathlib import Path\n",
    "import logging\n",
    "\n",
    "# Logging Setup\n",
    "logging.basicConfig(\n",
    "    level=logging.DEBUG,\n",
    "    format='%(asctime)s - %(name)s - %(levelname)s - %(message)s'\n",
    ")\n",
    "\n",
    "# Projektpfad zum Python-Path hinzufügen\n",
    "project_dir = Path.cwd()  # Da das Notebook im Root liegt\n",
    "if str(project_dir) not in sys.path:\n",
    "    sys.path.insert(0, str(project_dir))\n",
    "\n",
    "# Yijing Module importieren\n",
    "from yijing import (\n",
    "    YijingOracle,\n",
    "    settings,\n",
    "    ConsultationMode,\n",
    "    cast_hypergram,\n",
    "    generiere_erweiterte_weissagung,\n",
    "    formatiere_weissagung_markdown\n",
    ")"
   ]
  },
  {
   "cell_type": "markdown",
   "metadata": {},
   "source": [
    "## Test 1: Grundlegende Modell-Komponenten"
   ]
  },
  {
   "cell_type": "code",
   "execution_count": 2,
   "metadata": {},
   "outputs": [
    {
     "name": "stderr",
     "output_type": "stream",
     "text": [
      "2024-12-21 09:08:45,518 - yijing.core.generator - DEBUG - Generating six random lines for hypergram\n",
      "2024-12-21 09:08:45,519 - yijing.core.generator - DEBUG - Generated line values: [8, 9, 8, 7, 6, 7]\n",
      "2024-12-21 09:08:45,520 - yijing.models.hexagrams - DEBUG - Validating hypergram lines\n",
      "2024-12-21 09:08:45,521 - yijing.models.hexagrams - DEBUG - Finding changing lines\n",
      "2024-12-21 09:08:45,521 - yijing.models.lines - DEBUG - Checking if line 8 is changing\n",
      "2024-12-21 09:08:45,521 - yijing.models.lines - DEBUG - Checking if line 9 is changing\n",
      "2024-12-21 09:08:45,522 - yijing.models.lines - DEBUG - Checking if line 8 is changing\n",
      "2024-12-21 09:08:45,522 - yijing.models.lines - DEBUG - Checking if line 7 is changing\n",
      "2024-12-21 09:08:45,524 - yijing.models.lines - DEBUG - Checking if line 6 is changing\n",
      "2024-12-21 09:08:45,526 - yijing.models.lines - DEBUG - Checking if line 7 is changing\n",
      "2024-12-21 09:08:45,526 - yijing.core.generator - DEBUG - Created hypergram with 2 changing lines\n",
      "2024-12-21 09:08:45,527 - yijing.models.hexagrams - DEBUG - Creating old hexagram\n",
      "2024-12-21 09:08:45,527 - yijing.models.lines - DEBUG - Checking if line 8 is yin\n",
      "2024-12-21 09:08:45,528 - yijing.models.lines - DEBUG - Checking if line 9 is yin\n",
      "2024-12-21 09:08:45,529 - yijing.models.lines - DEBUG - Checking if line 8 is yin\n",
      "2024-12-21 09:08:45,530 - yijing.models.lines - DEBUG - Checking if line 7 is yin\n",
      "2024-12-21 09:08:45,530 - yijing.models.lines - DEBUG - Checking if line 6 is yin\n",
      "2024-12-21 09:08:45,531 - yijing.models.lines - DEBUG - Checking if line 7 is yin\n",
      "2024-12-21 09:08:45,531 - yijing.models.hexagrams - DEBUG - Validating hexagram lines\n",
      "2024-12-21 09:08:45,531 - yijing.models.hexagrams - DEBUG - Creating new hexagram\n",
      "2024-12-21 09:08:45,532 - yijing.models.lines - DEBUG - Checking if line 8 is changing\n",
      "2024-12-21 09:08:45,533 - yijing.models.lines - DEBUG - Checking if line 8 is yin\n",
      "2024-12-21 09:08:45,534 - yijing.models.lines - DEBUG - Checking if line 9 is changing\n",
      "2024-12-21 09:08:45,534 - yijing.models.lines - DEBUG - Determining transformation for line 9\n",
      "2024-12-21 09:08:45,535 - yijing.models.lines - DEBUG - Checking if line 8 is changing\n",
      "2024-12-21 09:08:45,535 - yijing.models.lines - DEBUG - Checking if line 8 is yin\n",
      "2024-12-21 09:08:45,535 - yijing.models.lines - DEBUG - Checking if line 7 is changing\n",
      "2024-12-21 09:08:45,536 - yijing.models.lines - DEBUG - Checking if line 7 is yin\n",
      "2024-12-21 09:08:45,536 - yijing.models.lines - DEBUG - Checking if line 6 is changing\n",
      "2024-12-21 09:08:45,536 - yijing.models.lines - DEBUG - Determining transformation for line 6\n",
      "2024-12-21 09:08:45,537 - yijing.models.lines - DEBUG - Checking if line 7 is changing\n",
      "2024-12-21 09:08:45,537 - yijing.models.lines - DEBUG - Checking if line 7 is yin\n",
      "2024-12-21 09:08:45,538 - yijing.models.hexagrams - DEBUG - Validating hexagram lines\n",
      "2024-12-21 09:08:45,539 - yijing.models.hexagrams - DEBUG - Finding changing lines\n",
      "2024-12-21 09:08:45,539 - yijing.models.lines - DEBUG - Checking if line 8 is changing\n",
      "2024-12-21 09:08:45,540 - yijing.models.lines - DEBUG - Checking if line 9 is changing\n",
      "2024-12-21 09:08:45,540 - yijing.models.lines - DEBUG - Checking if line 8 is changing\n",
      "2024-12-21 09:08:45,540 - yijing.models.lines - DEBUG - Checking if line 7 is changing\n",
      "2024-12-21 09:08:45,541 - yijing.models.lines - DEBUG - Checking if line 6 is changing\n",
      "2024-12-21 09:08:45,541 - yijing.models.lines - DEBUG - Checking if line 7 is changing\n"
     ]
    },
    {
     "name": "stdout",
     "output_type": "stream",
     "text": [
      "Generiertes Hypergramm:\n",
      "Altes Hexagramm: ⚋⚊⚋⚊⚋⚊\n",
      "Wandelnde Linien: [1, 4]\n",
      "Neues Hexagramm: ⚋⚋⚋⚊⚊⚊\n"
     ]
    }
   ],
   "source": [
    "# Test der Hexagramm-Generierung\n",
    "hypergram_data = cast_hypergram()\n",
    "\n",
    "print(\"Generiertes Hypergramm:\")\n",
    "print(f\"Altes Hexagramm: {hypergram_data.old_hexagram.to_unicode_representation()}\")\n",
    "print(f\"Wandelnde Linien: {hypergram_data.changing_lines}\")\n",
    "print(f\"Neues Hexagramm: {hypergram_data.new_hexagram.to_unicode_representation()}\")"
   ]
  },
  {
   "cell_type": "markdown",
   "metadata": {},
   "source": [
    "## Test 2: Erweiterte Weissagung"
   ]
  },
  {
   "cell_type": "code",
   "execution_count": 3,
   "metadata": {},
   "outputs": [
    {
     "name": "stderr",
     "output_type": "stream",
     "text": [
      "2024-12-21 09:08:51,449 - yijing.models.hexagrams - DEBUG - Validating hypergram lines\n",
      "2024-12-21 09:08:51,451 - yijing.models.hexagrams - DEBUG - Creating old hexagram\n",
      "2024-12-21 09:08:51,451 - yijing.models.lines - DEBUG - Checking if line 7 is yin\n",
      "2024-12-21 09:08:51,452 - yijing.models.lines - DEBUG - Checking if line 7 is yin\n",
      "2024-12-21 09:08:51,453 - yijing.models.lines - DEBUG - Checking if line 6 is yin\n",
      "2024-12-21 09:08:51,454 - yijing.models.lines - DEBUG - Checking if line 9 is yin\n",
      "2024-12-21 09:08:51,455 - yijing.models.lines - DEBUG - Checking if line 7 is yin\n",
      "2024-12-21 09:08:51,456 - yijing.models.lines - DEBUG - Checking if line 7 is yin\n",
      "2024-12-21 09:08:51,456 - yijing.models.hexagrams - DEBUG - Validating hexagram lines\n",
      "2024-12-21 09:08:51,456 - yijing.models.hexagrams - DEBUG - Creating new hexagram\n",
      "2024-12-21 09:08:51,457 - yijing.models.lines - DEBUG - Checking if line 7 is changing\n",
      "2024-12-21 09:08:51,458 - yijing.models.lines - DEBUG - Checking if line 7 is yin\n",
      "2024-12-21 09:08:51,458 - yijing.models.lines - DEBUG - Checking if line 7 is changing\n",
      "2024-12-21 09:08:51,459 - yijing.models.lines - DEBUG - Checking if line 7 is yin\n",
      "2024-12-21 09:08:51,459 - yijing.models.lines - DEBUG - Checking if line 6 is changing\n",
      "2024-12-21 09:08:51,460 - yijing.models.lines - DEBUG - Determining transformation for line 6\n",
      "2024-12-21 09:08:51,463 - yijing.models.lines - DEBUG - Checking if line 9 is changing\n",
      "2024-12-21 09:08:51,464 - yijing.models.lines - DEBUG - Determining transformation for line 9\n",
      "2024-12-21 09:08:51,465 - yijing.models.lines - DEBUG - Checking if line 7 is changing\n",
      "2024-12-21 09:08:51,465 - yijing.models.lines - DEBUG - Checking if line 7 is yin\n",
      "2024-12-21 09:08:51,465 - yijing.models.lines - DEBUG - Checking if line 7 is changing\n",
      "2024-12-21 09:08:51,466 - yijing.models.lines - DEBUG - Checking if line 7 is yin\n",
      "2024-12-21 09:08:51,466 - yijing.models.hexagrams - DEBUG - Validating hexagram lines\n",
      "2024-12-21 09:08:51,466 - yijing.models.hexagrams - DEBUG - Finding changing lines\n",
      "2024-12-21 09:08:51,467 - yijing.models.lines - DEBUG - Checking if line 7 is changing\n",
      "2024-12-21 09:08:51,468 - yijing.models.lines - DEBUG - Checking if line 7 is changing\n",
      "2024-12-21 09:08:51,468 - yijing.models.lines - DEBUG - Checking if line 6 is changing\n",
      "2024-12-21 09:08:51,468 - yijing.models.lines - DEBUG - Checking if line 9 is changing\n",
      "2024-12-21 09:08:51,469 - yijing.models.lines - DEBUG - Checking if line 7 is changing\n",
      "2024-12-21 09:08:51,470 - yijing.models.lines - DEBUG - Checking if line 7 is changing\n",
      "2024-12-21 09:08:51,471 - yijing.core.manager - DEBUG - Initialized HexagramManager with resources path: /Users/johanneskaindl/Documents/0_inbox/2_projekte/1_coding/YijingOracle/yijing/resources\n",
      "2024-12-21 09:08:51,473 - yijing.core.manager - DEBUG - Creating reading context: original=56, changing=[3, 4], resulting=60\n"
     ]
    },
    {
     "name": "stdout",
     "output_type": "stream",
     "text": [
      "# I GING WEISSAGUNG\n",
      "## URSPRÜNGLICHES HEXAGRAMM\n",
      "### SIAU GO / DES KLEINEN ÜBERGEWICHT (Nr. 56)\n",
      "Symbol: ⚊⚊⚋⚊⚊⚊\n",
      "#### Trigramme\n",
      "Oben: Dschen (das Erregende, der Donner)\n",
      "Unten: Gen (das Stillehalten, der Berg)\n",
      "#### Grundbedeutung\n",
      "Hier muß notgedrungen das Schwache die Vertretung nach außen übernehmen. Wenn man an einem entscheidenden Platz steht, dem man seinem Wesen nach eigentlich nicht gewachsen ist, so ist außerordentliche Vorsicht nötig.\n",
      "#### Das Urteil\n",
      "Des Kleinen Übergewicht. Gelingen. Fördernd ist Beharrlichkeit. Man mag kleine Dinge tun, man soll nicht große Dinge tun. Der fliegende Vogel bringt die Botschaft: \"Es ist nicht gut, nach oben zu streben, es ist gut, unten zu bleiben. Großes Heil !\"\n",
      "##### Analyse\n",
      "- Außerordentliche Bescheidenheit und Gewissenhaftigkeit wird sicher von Erfolg belohnt werden, nur ist es wichtig, daß sie nicht leere Formel und kriechendes Wesen werden, sondern mit der rechten Würde im persönlichen Auftreten verbunden bleiben, so daß man sich nicht wegwirft.\n",
      "- Man muß verstehen, was die Forderungen der Zeit sind, um die rechte Ergänzung für die Mängel und Schäden der Zeit zu finden.\n",
      "- Immerhin darf man sich nicht auf große Erfolge gefaßt machen, da dazu die nötige Stärke fehlt.\n",
      "- Darum ist die Botschaft so wichtig, nicht nach hohen Dingen zu streben, sondern sich zu den niedrigen zu halten.\n",
      "#### Das Bild\n",
      "Auf dem Berg ist der Donner: das Bild von des Kleinen Übergewicht.\n",
      "**Lehre:** So legt der Edle im Wandel das Übergewicht auf die Ehrerbietung. Bei Trauerfällen legt er das Übergewicht auf die Trauer. Bei seinen Ausgaben legt er das Übergewicht auf die Sparsamkeit.\n",
      "## WANDELNDE LINIEN\n",
      "### Neun auf viertem Platz. Linie\n",
      "**Text:** Kein Makel. Ohne vorbeizugehen, trifft er ihn. Hingehen bringt Gefahr. Man muß sich hüten. Handle nicht. Sei dauernd beharrlich.\n",
      "**Deutung:** Die Härte des Charakters ist durch die Weichheit der Stellung gemildert, so daß man keinen Fehler macht. Man beendet sich in einer Lage, da man sich aufs äußerste zurückhalten muß. Man darf von sich aus nichts unternehmen, um das Gewünschte zu treffen. Und wenn man hingehen wollte, um gewaltsam sein Ziel zu erreichen, so käme man in Gefahr. Darum muß man sich hüten und nicht handeln, sondern dauernd die innere Beharrlichkeit wahren.\n",
      "### Sechs auf fünftem Platz. Linie\n",
      "**Text:** Dichte Wolken, kein Regen von unserm westlichen Gebiet. Der Fürst schießt und trifft jenen in der Höhle.\n",
      "**Deutung:** Da hier ein hoher Platz ist, ist aus dem Bild des fliegenden Vogels das der fliegenden Wolken geworden. Aber ob die Wolken auch noch so dicht sind, sie fliegen am Himmel dahin und spenden keinen Regen. So kann in außerordentlichen Zeiten wohl ein geborener Herrscher da sein, der berufen wäre, die Welt in Ordnung zu bringen, aber er vermag nichts auszurichten und dem Volk seinen Segen nicht zuzuwenden, weil er allein steht und keinen Gehilfen hat. In solchen Zeiten muß man nach Gehilfen suchen, mit denen zusammen man das Werk vollbringen kann. Aber diese Gehilfen muß man bescheiden in der Verborgenheit suchen, in die sie sich zurückgezogen haben. Nicht auf Berühmtheit und großen Namen kommt es an, sondern auf wirkliche Leistungen. Durch solche Bescheidenheit Endet man den rechten Mann und vermag das außerordentliche Werk trotz aller Schwierigkeit zu vollenden.\n",
      "## RESULTIERENDES HEXAGRAMM\n",
      "### DSIE / DIE BESCHRÄNKUNG (Nr. 60)\n",
      "Symbol: ⚊⚊⚊⚋⚊⚊\n",
      "#### Trigramme\n",
      "Oben: Kan (das Abgründige, das Wasser)\n",
      "Unten: Dui (das Heitere, der See)\n",
      "#### Grundbedeutung\n",
      "Das Zeichen bedeutet die festen Glieder, durch die die Bambusstengel eingeteilt sind. Im gewöhnlichen Leben ist damit gemeint die Sparsamkeit, die feste Schranken für ihre Ausgaben hat. Im moralischen Leben sind es die festen Schranken, die sich der Edle steckt für seine Handlungen, die Schranken der Treue und der Uneigennützigkeit.\n",
      "#### Das Urteil\n",
      "Beschränkung. Gelingen. Bittere Beschränkung darf man nicht beharrlich üben.\n",
      "##### Analyse\n",
      "- Schranken sind bemühend. Aber sie richten etwas aus.\n",
      "- Durch Sparsamkeit im gewöhnlichen Leben ist man gerüstet auf Zeiten der Not.\n",
      "- Durch Zurückhalten erspart man sich Beschämung.\n",
      "- Schranken in der Ordnung der Weltverhältnisse unentbehrlich.\n",
      "- Die Natur hat feste Schranken für Sommer und Winter, Tag und Nacht, und durch diese Schranken erhält das Jahr seine Bedeutung.\n",
      "- Die Sparsamkeit dient dazu, daß durch feste Schranken in den Ausgaben die Güter erhalten bleiben und die Menschen nicht geschädigt werden.\n",
      "- Auch in der Beschränkung ist Maßhalten nötig.\n",
      "- Zu bittere Schranken für die eigene Natur würden ihr schaden.\n",
      "- Zu weit getriebene Beschränkung der anderen führt zu Empörung.\n",
      "- Darum sind auch in der Beschränkung Schranken nötig.\n",
      "#### Das Bild\n",
      "Oberhalb des Sees ist Wasser: das Bild der Beschränkung.\n",
      "**Lehre:** So schaut der Edle Zahl und Maß und untersucht, was Tugend und rechter Wandel ist.\n",
      "\n"
     ]
    }
   ],
   "source": [
    "# Teste die erweiterte Weissagung mit spezifischen Linienwerten\n",
    "test_linien = [7, 7, 6, 9, 7, 7]  # Beispiel-Linienwerte\n",
    "weissagung = generiere_erweiterte_weissagung(test_linien)\n",
    "\n",
    "# Formatierte Ausgabe\n",
    "print(formatiere_weissagung_markdown(weissagung))"
   ]
  },
  {
   "cell_type": "markdown",
   "metadata": {},
   "source": [
    "## Test 3: Orakel-Integration"
   ]
  },
  {
   "cell_type": "code",
   "execution_count": 4,
   "metadata": {},
   "outputs": [
    {
     "name": "stderr",
     "output_type": "stream",
     "text": [
      "2024-12-21 09:09:14,865 - yijing.core.manager - DEBUG - Initialized HexagramManager with resources path: /Users/johanneskaindl/Documents/0_inbox/2_projekte/1_coding/YijingOracle/yijing/resources\n",
      "2024-12-21 09:09:14,868 - yijing.core.oracle - INFO - Processing question in single mode\n",
      "2024-12-21 09:09:14,868 - yijing.core.oracle - INFO - Processing question in single mode\n",
      "2024-12-21 09:09:14,870 - yijing.core.generator - DEBUG - Generating six random lines for hypergram\n",
      "2024-12-21 09:09:14,870 - yijing.core.generator - DEBUG - Generated line values: [6, 6, 7, 6, 8, 8]\n",
      "2024-12-21 09:09:14,871 - yijing.models.hexagrams - DEBUG - Validating hypergram lines\n",
      "2024-12-21 09:09:14,871 - yijing.models.hexagrams - DEBUG - Finding changing lines\n",
      "2024-12-21 09:09:14,872 - yijing.models.lines - DEBUG - Checking if line 6 is changing\n",
      "2024-12-21 09:09:14,873 - yijing.models.lines - DEBUG - Checking if line 6 is changing\n",
      "2024-12-21 09:09:14,873 - yijing.models.lines - DEBUG - Checking if line 7 is changing\n",
      "2024-12-21 09:09:14,873 - yijing.models.lines - DEBUG - Checking if line 6 is changing\n",
      "2024-12-21 09:09:14,874 - yijing.models.lines - DEBUG - Checking if line 8 is changing\n",
      "2024-12-21 09:09:14,874 - yijing.models.lines - DEBUG - Checking if line 8 is changing\n",
      "2024-12-21 09:09:14,875 - yijing.core.generator - DEBUG - Created hypergram with 3 changing lines\n",
      "2024-12-21 09:09:14,878 - yijing.models.hexagrams - DEBUG - Creating old hexagram\n",
      "2024-12-21 09:09:14,879 - yijing.models.lines - DEBUG - Checking if line 6 is yin\n",
      "2024-12-21 09:09:14,880 - yijing.models.lines - DEBUG - Checking if line 6 is yin\n",
      "2024-12-21 09:09:14,880 - yijing.models.lines - DEBUG - Checking if line 7 is yin\n",
      "2024-12-21 09:09:14,881 - yijing.models.lines - DEBUG - Checking if line 6 is yin\n",
      "2024-12-21 09:09:14,881 - yijing.models.lines - DEBUG - Checking if line 8 is yin\n",
      "2024-12-21 09:09:14,881 - yijing.models.lines - DEBUG - Checking if line 8 is yin\n",
      "2024-12-21 09:09:14,881 - yijing.models.hexagrams - DEBUG - Validating hexagram lines\n",
      "2024-12-21 09:09:14,882 - yijing.models.hexagrams - DEBUG - Creating new hexagram\n",
      "2024-12-21 09:09:14,882 - yijing.models.lines - DEBUG - Checking if line 6 is changing\n",
      "2024-12-21 09:09:14,883 - yijing.models.lines - DEBUG - Determining transformation for line 6\n",
      "2024-12-21 09:09:14,883 - yijing.models.lines - DEBUG - Checking if line 6 is changing\n",
      "2024-12-21 09:09:14,883 - yijing.models.lines - DEBUG - Determining transformation for line 6\n",
      "2024-12-21 09:09:14,884 - yijing.models.lines - DEBUG - Checking if line 7 is changing\n",
      "2024-12-21 09:09:14,884 - yijing.models.lines - DEBUG - Checking if line 7 is yin\n",
      "2024-12-21 09:09:14,885 - yijing.models.lines - DEBUG - Checking if line 6 is changing\n",
      "2024-12-21 09:09:14,887 - yijing.models.lines - DEBUG - Determining transformation for line 6\n",
      "2024-12-21 09:09:14,888 - yijing.models.lines - DEBUG - Checking if line 8 is changing\n",
      "2024-12-21 09:09:14,888 - yijing.models.lines - DEBUG - Checking if line 8 is yin\n",
      "2024-12-21 09:09:14,889 - yijing.models.lines - DEBUG - Checking if line 8 is changing\n",
      "2024-12-21 09:09:14,889 - yijing.models.lines - DEBUG - Checking if line 8 is yin\n",
      "2024-12-21 09:09:14,890 - yijing.models.hexagrams - DEBUG - Validating hexagram lines\n",
      "2024-12-21 09:09:14,890 - yijing.models.hexagrams - DEBUG - Finding changing lines\n",
      "2024-12-21 09:09:14,891 - yijing.models.lines - DEBUG - Checking if line 6 is changing\n",
      "2024-12-21 09:09:14,891 - yijing.models.lines - DEBUG - Checking if line 6 is changing\n",
      "2024-12-21 09:09:14,892 - yijing.models.lines - DEBUG - Checking if line 7 is changing\n",
      "2024-12-21 09:09:14,894 - yijing.models.lines - DEBUG - Checking if line 6 is changing\n",
      "2024-12-21 09:09:14,895 - yijing.models.lines - DEBUG - Checking if line 8 is changing\n",
      "2024-12-21 09:09:14,897 - yijing.models.lines - DEBUG - Checking if line 8 is changing\n",
      "2024-12-21 09:09:14,897 - yijing.core.manager - DEBUG - Creating reading context: original=9, changing=[0, 1, 3], resulting=61\n",
      "2024-12-21 09:09:16,218 - yijing.core.manager - DEBUG - Generating consultation prompt for question: Was ist ffür die Veranstaltung heute noch zu beachten?\n"
     ]
    },
    {
     "name": "stdout",
     "output_type": "stream",
     "text": [
      "Orakel-Antwort:\n",
      "## I Ging Beratung zur Veranstaltung\n",
      "\n",
      "Dein Ausgangshexagramm, Dschen (Das Erregende), zeigt eine Situation voller dynamischer Energie und potenziell erschütternder Veränderungen im Bezug auf deine Veranstaltung.  Das Urteil „Das Erschüttern bringt Gelingen“ deutet auf einen erfolgreichen Ausgang hin, trotz anfänglicher Turbulenzen.  Die \"lachende Worte\" am Ende des Urteils weisen auf eine positive Auflösung hin,  nachdem die anfängliche Furcht überwunden ist.\n",
      "\n",
      "**1. Gegenwärtige Situation:**\n",
      "\n",
      "Das Hexagramm Dschen spiegelt die intensive, fast gewalttätige Energie wider, die mit der Vorbereitung und Durchführung deiner Veranstaltung verbunden ist.  Es gibt einen starken Drang zum Handeln,  vielleicht sogar eine gewisse Ungeduld. Die anfängliche Angst vor dem Unbekannten ist spürbar. Dies könnte sich in Stress,  organisatorischen Herausforderungen oder unerwarteten Problemen äußern.\n",
      "\n",
      "**2. Wandlungsprozess:**\n",
      "\n",
      "Die wandelnden Linien enthüllen die spezifischen Herausforderungen und Chancen:\n",
      "\n",
      "* **Linie 1 (Neun auf dem ersten Platz):**  Die anfängliche Furcht und der scheinbare Nachteil werden durch den Erfolg überwunden.  Dies deutet darauf hin, dass anfängliche Ängste zwar vorhanden sind, aber nicht die Gesamtlage bestimmen.  Konzentriere dich darauf, die anfängliche Herausforderung zu meistern – der Erfolg folgt danach.\n",
      "\n",
      "* **Linie 2 (Sechs auf dem zweiten Platz):** Diese Linie warnt vor potentiellen Verlusten und Gefahren.  Es könnte zu unerwarteten Problemen kommen, die zu Verlusten führen könnten. Die Empfehlung, sich zurückzuziehen und nicht um jeden Preis zu kämpfen,  ist entscheidend.  Akzeptiere mögliche Verluste und konzentriere dich darauf, die Situation zu bewältigen, ohne dich in aussichtslose Kämpfe zu stürzen.  Geduld ist hier entscheidend.\n",
      "\n",
      "* **Linie 4 (Neun auf dem vierten Platz):**  Diese Linie spricht von Stagnation und Trägheit.  Es könnte sein, dass du auf unüberwindliche Hindernisse triffst, die sich wie \"Schlamm\" anfühlen.  Versuche, die Situation zu analysieren und nach alternativen Wegen zu suchen, um die Blockaden zu umgehen.\n",
      "\n",
      "**3. Zukunftstendenz:**\n",
      "\n",
      "Das resultierende Hexagramm, Dsing (Der Brunnen), zeigt eine Veränderung der Dynamik. Die anfängliche Erschütterung weicht einer stabilen und nachhaltigen Quelle.  Der Brunnen steht für Beständigkeit,  unerschöpfliche Versorgung und die Fähigkeit, sich immer wieder zu erneuern.  Dies deutet darauf hin, dass die Veranstaltung, trotz der anfänglichen Herausforderungen, auf einer soliden Basis steht und langfristig erfolgreich sein kann.\n",
      "\n",
      "**4. Praktische Integration:**\n",
      "\n",
      "* **Selbstreflexion:**  Betrachte die Herausforderungen, die du bereits gemeistert hast. Welche Ängste hast du überwunden? Wo gibt es noch Stagnation? Wie kannst du flexibel auf unerwartete Probleme reagieren?\n",
      "\n",
      "* **Handlungsempfehlungen:**  Konzentriere dich auf die wesentlichen Dinge.  Lass dich von unerwarteten Rückschlägen nicht entmutigen.  Suche nach pragmatischen Lösungen und wähle deine Kämpfe weise.  Vermeide unnötige Hektik und Stress.  Sorge für ausreichend Puffer und Reserven.\n",
      "\n",
      "\n",
      "* **Übungen zur Umsetzung:**  Erstelle eine Checkliste mit den wichtigsten Aufgaben.  Delegiere Aufgaben, wo es möglich ist.  Plane ausreichend Zeit für unvorhergesehene Ereignisse ein.  Sprich offen mit deinem Team über potentielle Probleme und deren Lösungen.\n",
      "\n",
      "**5. Zusammenfassung:**\n",
      "\n",
      "Die I Ging Beratung deutet darauf hin, dass deine Veranstaltung trotz der zu erwartenden Herausforderungen erfolgreich verlaufen wird. Die anfänglichen Erschütterungen werden überwunden.  Konzentriere dich auf Flexibilität,  Pragmatismus und die Fähigkeit,  mit unerwarteten Ereignissen ruhig und besonnen umzugehen.  Vertraue auf deine Ressourcen und die Unterstützung deines Teams. Die Veranstaltung wird sich als eine stabile und nachhaltige Quelle für Erfolg erweisen.  Hab Vertrauen und genieße den Prozess!\n",
      "\n",
      "\n",
      "Verwendetes Hexagramm:\n",
      "Original: DSCHEN / DAS ERREGENDE (DAS ERSCHÜTTERNDE, DER DONNER)\n",
      "Wandelnde Linien: [1, 2, 4]\n",
      "Resultierend: DSING / DER BRUNNEN\n"
     ]
    }
   ],
   "source": [
    "# API-Key aus Umgebungsvariable\n",
    "import os\n",
    "api_key = os.getenv(\"GENAI_API_KEY\")\n",
    "\n",
    "if not api_key:\n",
    "    raise ValueError(\"GENAI_API_KEY Umgebungsvariable nicht gefunden!\")\n",
    "\n",
    "# Orakel initialisieren\n",
    "oracle = YijingOracle(api_key=api_key)\n",
    "\n",
    "# Testfrage stellen\n",
    "test_question = \"Was ist ffür die Veranstaltung heute noch zu beachten?\"\n",
    "response = oracle.get_response(test_question)\n",
    "\n",
    "print(\"Orakel-Antwort:\")\n",
    "print(response['answer'])\n",
    "print(\"\\nVerwendetes Hexagramm:\")\n",
    "print(f\"Original: {response['hexagram_context']['original']}\")\n",
    "print(f\"Wandelnde Linien: {response['hexagram_context']['changing_lines']}\")\n",
    "print(f\"Resultierend: {response['hexagram_context']['resulting']}\")"
   ]
  },
  {
   "cell_type": "markdown",
   "metadata": {},
   "source": [
    "## Test 4: Fehlerbehandlung"
   ]
  },
  {
   "cell_type": "code",
   "execution_count": 5,
   "metadata": {},
   "outputs": [
    {
     "name": "stderr",
     "output_type": "stream",
     "text": [
      "2024-12-21 09:09:35,525 - yijing.models.hexagrams - DEBUG - Validating hypergram lines\n"
     ]
    },
    {
     "name": "stdout",
     "output_type": "stream",
     "text": [
      "Erwarteter Fehler bei ungültigen Linienwerten: 1 validation error for HypergramLine\n",
      "value\n",
      "  Input should be 6, 7, 8 or 9 [type=literal_error, input_value=1, input_type=int]\n",
      "    For further information visit https://errors.pydantic.dev/2.9/v/literal_error\n",
      "Erwarteter Fehler bei falscher Linienanzahl: 1 validation error for Hypergram\n",
      "lines\n",
      "  Value error, A hypergram must contain exactly 6 lines [type=value_error, input_value=[HypergramLine(value=7), ... HypergramLine(value=7)], input_type=list]\n",
      "    For further information visit https://errors.pydantic.dev/2.9/v/value_error\n"
     ]
    }
   ],
   "source": [
    "def test_error_cases():\n",
    "    \"\"\"Teste verschiedene Fehlerfälle\"\"\"\n",
    "    try:\n",
    "        # Test mit ungültigen Linienwerten\n",
    "        invalid_lines = [1, 2, 3, 4, 5, 6]\n",
    "        weissagung = generiere_erweiterte_weissagung(invalid_lines)\n",
    "    except ValueError as e:\n",
    "        print(f\"Erwarteter Fehler bei ungültigen Linienwerten: {e}\")\n",
    "    \n",
    "    try:\n",
    "        # Test mit falscher Linienanzahl\n",
    "        too_few_lines = [7, 7, 7, 7, 7]\n",
    "        weissagung = generiere_erweiterte_weissagung(too_few_lines)\n",
    "    except ValueError as e:\n",
    "        print(f\"Erwarteter Fehler bei falscher Linienanzahl: {e}\")\n",
    "\n",
    "test_error_cases()"
   ]
  }
 ],
 "metadata": {
  "kernelspec": {
   "display_name": "gemini_310",
   "language": "python",
   "name": "python3"
  },
  "language_info": {
   "codemirror_mode": {
    "name": "ipython",
    "version": 3
   },
   "file_extension": ".py",
   "mimetype": "text/x-python",
   "name": "python",
   "nbconvert_exporter": "python",
   "pygments_lexer": "ipython3",
   "version": "3.10.15"
  }
 },
 "nbformat": 4,
 "nbformat_minor": 4
}
