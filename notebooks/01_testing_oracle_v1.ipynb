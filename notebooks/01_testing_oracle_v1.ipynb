{
 "cells": [
  {
   "cell_type": "markdown",
   "metadata": {},
   "source": [
    "# I Ging Oracle Testing & Development Notebook\n",
    "\n",
    "Dieses Notebook dient zum Testen und Erweitern des I Ging Orakels. Es demonstriert:\n",
    "1. Grundlegende Oracle-Funktionen\n",
    "2. Erweiterte Weissagungen mit vollständigen Texten\n",
    "3. Verschiedene Konsultationsmodi\n",
    "4. Visualisierung der Hexagramme\n",
    "\n",
    "## Setup\n",
    "Zuerst importieren wir alle benötigten Module und initialisieren das Logging."
   ]
  },
  {
   "cell_type": "code",
   "execution_count": null,
   "metadata": {},
   "outputs": [],
   "source": [
    "import os\n",
    "import logging\n",
    "from pathlib import Path\n",
    "from typing import List, Dict, Any\n",
    "from IPython.display import display, Markdown, HTML\n",
    "\n",
    "from yijing.oracle import (YijingOracle,\n",
    "                     ask_oracle,\n",
    "                     generiere_erweiterte_weissagung,\n",
    "                     formatiere_weissagung_markdown,\n",
    "                     analysiere_hexagramm_eigenschaften,\n",
    "                     formatiere_analyse_markdown\n",
    "                    )\n",
    "\n",
    "\n",
    "from yijing.models import Hypergram, HypergramLine, HypergramData\n",
    "from yijing.managers import HexagramManager\n",
    "from yijing.enums import ConsultationMode\n",
    "\n",
    "from jupyter_json_viewer import display_json\n",
    "\n",
    "# Logging Setup\n",
    "logging.basicConfig(level=logging.INFO)\n",
    "logger = logging.getLogger(__name__)\n",
    "\n",
    "# Verzeichnisse initialisieren\n",
    "project_dir = Path.cwd()\n",
    "resources_dir = project_dir / 'yijing' / 'resources'\n",
    "\n",
    "# Oracle initialisieren\n",
    "oracle = YijingOracle(\n",
    "    api_key=os.environ[\"API_KEY\"],\n",
    "    custom_settings={\n",
    "        \"model_name\": \"models/gemini-1.5-pro-latest\"\n",
    "        #\"model_name\": \"models/gemini-1.5-flash-latest\"\n",
    "    }\n",
    ")"
   ]
  },
  {
   "cell_type": "markdown",
   "metadata": {},
   "source": [
    "## Erweiterte Weissagungsfunktion\n",
    "\n",
    "Diese Version der Weissagungsfunktion enthält alle relevanten Texte aus den JSON-Files und formatiert sie übersichtlich."
   ]
  },
  {
   "cell_type": "code",
   "execution_count": 9,
   "metadata": {},
   "outputs": [],
   "source": [
    "import json\n",
    "\n",
    "# load all json files from resources directory / hexagram_json\n",
    "hexagram_json_files = [f for f in resources_dir.glob('hexagram_json/*.json') if f.is_file()]\n",
    "\n",
    "# convert to json objects\n",
    "hexagram_jsons = []\n",
    "for file in hexagram_json_files:\n",
    "    with open(file, 'r') as f:\n",
    "        hexagram_jsons.append(json.load(f))"
   ]
  },
  {
   "cell_type": "code",
   "execution_count": null,
   "metadata": {},
   "outputs": [],
   "source": [
    "display_json(hexagram_jsons[0], collapsed=True, dark_mode=True)"
   ]
  },
  {
   "cell_type": "code",
   "execution_count": null,
   "metadata": {},
   "outputs": [],
   "source": []
  },
  {
   "cell_type": "markdown",
   "metadata": {},
   "source": [
    "## Weissagung durchführen\n",
    "\n",
    "Jetzt können wir eine vollständige Weissagung durchführen und die Ergebnisse anzeigen."
   ]
  },
  {
   "cell_type": "code",
   "execution_count": null,
   "metadata": {},
   "outputs": [],
   "source": [
    "from yijing.oracle import generiere_erweiterte_weissagung, formatiere_weissagung_markdown"
   ]
  },
  {
   "cell_type": "code",
   "execution_count": null,
   "metadata": {},
   "outputs": [],
   "source": [
    "# Beispiel mit spezifischen Linienwerten\n",
    "linien_werte = [8, 7, 6, 9, 9, 6]  # Beispielwerte\n",
    "weissagung = generiere_erweiterte_weissagung(linien_werte)\n",
    "markdown_text = formatiere_weissagung_markdown(weissagung)\n",
    "display(Markdown(markdown_text))"
   ]
  },
  {
   "cell_type": "markdown",
   "metadata": {},
   "source": [
    "## Oracle Konsultation\n",
    "\n",
    "Nun können wir das Oracle zu einer spezifischen Frage konsultieren."
   ]
  },
  {
   "cell_type": "code",
   "execution_count": null,
   "metadata": {},
   "outputs": [],
   "source": [
    "# Frage an das Oracle\n",
    "frage = \"Wie wird die Veranstaltung?\"\n",
    "antwort = oracle.get_response(frage)\n",
    "\n",
    "print(\"FRAGE:\")\n",
    "print(frage)\n",
    "print(\"\\nANTWORT DES ORAKELS:\")\n",
    "display(Markdown(antwort['answer']))"
   ]
  },
  {
   "cell_type": "markdown",
   "metadata": {},
   "source": [
    "## Dialog-Modus Test\n",
    "\n",
    "Hier testen wir den Dialog-Modus des Orakels für eine interaktivere Konsultation."
   ]
  },
  {
   "cell_type": "code",
   "execution_count": null,
   "metadata": {},
   "outputs": [],
   "source": [
    "# Oracle im Dialog-Modus initialisieren\n",
    "dialog_oracle = YijingOracle(\n",
    "    api_key=os.environ[\"API_KEY\"],\n",
    "    custom_settings={\n",
    "        \"model_name\": \"models/gemini-1.5-pro-latest\",\n",
    "        \"consultation_mode\": ConsultationMode.DIALOGUE\n",
    "    }\n",
    ")\n",
    "\n",
    "# Neue Konsultation starten\n",
    "dialog_oracle.start_new_consultation()\n",
    "\n",
    "# Erste Frage stellen\n",
    "frage = \"Wie kann ich innere Balance finden?\"\n",
    "antwort = dialog_oracle.get_response(frage)\n",
    "\n",
    "print(\"FRAGE 1:\")\n",
    "print(frage)\n",
    "print(\"\\nANTWORT:\")\n",
    "display(Markdown(antwort['answer']))\n",
    "\n",
    "# Folge-Frage stellen\n",
    "frage = \"Wie kann ich die genannten Ratschläge am besten in meinen Alltag integrieren?\"\n",
    "antwort = dialog_oracle.get_response(frage)\n",
    "\n",
    "print(\"\\nFRAGE 2:\")\n",
    "print(frage)\n",
    "print(\"ANTWORT:\")\n",
    "display(Markdown(antwort['answer']))"
   ]
  },
  {
   "cell_type": "markdown",
   "metadata": {},
   "source": [
    "## Erweiterte Funktionen"
   ]
  },
  {
   "cell_type": "code",
   "execution_count": null,
   "metadata": {},
   "outputs": [],
   "source": [
    "'''\n",
    "def analysiere_hexagramm_eigenschaften(weissagung: Dict[str, Any]) -> Dict[str, Any]:\n",
    "    \"\"\"Analysiert die Eigenschaften und Beziehungen der Hexagramme in einer Weissagung.\"\"\"\n",
    "    ursprung = weissagung['ursprung']\n",
    "    ergebnis = weissagung['ergebnis']\n",
    "    \n",
    "    return {\n",
    "        'trigramm_transformation': {\n",
    "            'ursprung': {\n",
    "                'oben': ursprung['trigrams']['above'],\n",
    "                'unten': ursprung['trigrams']['below']\n",
    "            },\n",
    "            'ergebnis': {\n",
    "                'oben': ergebnis['trigrams']['above'],\n",
    "                'unten': ergebnis['trigrams']['below']\n",
    "            }\n",
    "        },\n",
    "        'wandlungslinien_anzahl': len(weissagung['wandelnde_linien']['positionen']),\n",
    "        'wandlungslinien_positionen': weissagung['wandelnde_linien']['positionen'],\n",
    "        'kernaspekte': {\n",
    "            'ursprung': {\n",
    "                'name': ursprung['name'],\n",
    "                'kernelement': ursprung['bedeutung']['description'].split('.')[0]\n",
    "            },\n",
    "            'ergebnis': {\n",
    "                'name': ergebnis['name'],\n",
    "                'kernelement': ergebnis['bedeutung']['description'].split('.')[0]\n",
    "            }\n",
    "        }\n",
    "    }\n",
    "\n",
    "# Funktion zum Formatieren der Analyse\n",
    "def formatiere_analyse_markdown(analyse: Dict[str, Any]) -> str:\n",
    "    \"\"\"Formatiert die Hexagramm-Analyse als Markdown.\"\"\"\n",
    "    md = [\n",
    "        \"# ANALYSE DER HEXAGRAMM-TRANSFORMATION\\n\",\n",
    "        \n",
    "        \"## Trigramm-Transformation\\n\",\n",
    "        \"### Ursprüngliches Hexagramm\\n\",\n",
    "        f\"- Oberes Trigramm: {analyse['trigramm_transformation']['ursprung']['oben']['name']} \"\n",
    "        f\"({analyse['trigramm_transformation']['ursprung']['oben']['attributes']})\\n\",\n",
    "        f\"- Unteres Trigramm: {analyse['trigramm_transformation']['ursprung']['unten']['name']} \"\n",
    "        f\"({analyse['trigramm_transformation']['ursprung']['unten']['attributes']})\\n\",\n",
    "        \n",
    "        \"### Resultierendes Hexagramm\\n\",\n",
    "        f\"- Oberes Trigramm: {analyse['trigramm_transformation']['ergebnis']['oben']['name']} \"\n",
    "        f\"({analyse['trigramm_transformation']['ergebnis']['oben']['attributes']})\\n\",\n",
    "        f\"- Unteres Trigramm: {analyse['trigramm_transformation']['ergebnis']['unten']['name']} \"\n",
    "        f\"({analyse['trigramm_transformation']['ergebnis']['unten']['attributes']})\\n\",\n",
    "        \n",
    "        \"## Wandlungslinien\\n\",\n",
    "        f\"- Anzahl der Wandlungen: {analyse['wandlungslinien_anzahl']}\\n\",\n",
    "        f\"- Positionen: {', '.join(map(str, analyse['wandlungslinien_positionen']))}\\n\",\n",
    "        \n",
    "        \"## Kernaspekte\\n\",\n",
    "        \"### Ursprüngliches Hexagramm\\n\",\n",
    "        f\"- Name: {analyse['kernaspekte']['ursprung']['name']}\\n\",\n",
    "        f\"- Kernelement: {analyse['kernaspekte']['ursprung']['kernelement']}\\n\",\n",
    "        \n",
    "        \"### Resultierendes Hexagramm\\n\",\n",
    "        f\"- Name: {analyse['kernaspekte']['ergebnis']['name']}\\n\",\n",
    "        f\"- Kernelement: {analyse['kernaspekte']['ergebnis']['kernelement']}\\n\"\n",
    "    ]\n",
    "    \n",
    "    return \"\".join(md)\n",
    "'''"
   ]
  },
  {
   "cell_type": "markdown",
   "metadata": {},
   "source": [
    "### 1. Gesamtanalyse einer Weissagung\n",
    "Hier führen wir eine vollständige Analyse durch, die sowohl die Weissagung als auch die statistischen Eigenschaften umfasst."
   ]
  },
  {
   "cell_type": "code",
   "execution_count": null,
   "metadata": {},
   "outputs": [],
   "source": [
    "# Vollständige Analyse durchführen\n",
    "weissagung = generiere_erweiterte_weissagung(linien_werte)\n",
    "analyse = analysiere_hexagramm_eigenschaften(weissagung)\n",
    "\n",
    "# Weissagung und Analyse anzeigen\n",
    "print(\"=== VOLLSTÄNDIGE I GING ANALYSE ===\")\n",
    "display(Markdown(formatiere_weissagung_markdown(weissagung)))\n",
    "print(\"\\n=== STATISTISCHE ANALYSE ===\")\n",
    "display(Markdown(formatiere_analyse_markdown(analyse)))"
   ]
  },
  {
   "cell_type": "markdown",
   "metadata": {},
   "source": [
    "## Experimentelle Features\n",
    "\n",
    "### 1. Vergleich mehrerer Weissagungen\n",
    "Diese Funktion ermöglicht es, Muster in mehreren aufeinanderfolgenden Weissagungen zu erkennen."
   ]
  },
  {
   "cell_type": "code",
   "execution_count": null,
   "metadata": {},
   "outputs": [],
   "source": [
    "\n",
    "import random\n",
    "import json\n",
    "\n",
    "def vergleiche_weissagungen(anzahl: int = 3) -> Dict[str, Any]:\n",
    "    \"\"\"Führt mehrere Weissagungen durch und vergleicht ihre Eigenschaften.\"\"\"\n",
    "    weissagungen = []\n",
    "    for _ in range(anzahl):\n",
    "        # Zufällige Linienwerte generieren\n",
    "        linien = [random.choice([6, 7, 8, 9]) for _ in range(6)]\n",
    "        weissagung = generiere_erweiterte_weissagung(linien)\n",
    "        weissagungen.append(weissagung)\n",
    "    \n",
    "    # Muster analysieren\n",
    "    muster = {\n",
    "        'häufige_hexagramme': {},\n",
    "        'wandlungsstatistik': {\n",
    "            'durchschnitt_wandlungen': 0,\n",
    "            'häufige_positionen': {}\n",
    "        }\n",
    "    }\n",
    "    \n",
    "    # Hexagramme zählen\n",
    "    for w in weissagungen:\n",
    "        # Ursprungshexagramm\n",
    "        ursprung = w['ursprung']['name']\n",
    "        muster['häufige_hexagramme'][ursprung] = \\\n",
    "            muster['häufige_hexagramme'].get(ursprung, 0) + 1\n",
    "        \n",
    "        # Ergebnishexagramm\n",
    "        ergebnis = w['ergebnis']['name']\n",
    "        muster['häufige_hexagramme'][ergebnis] = \\\n",
    "            muster['häufige_hexagramme'].get(ergebnis, 0) + 1\n",
    "        \n",
    "        # Wandlungsstatistik\n",
    "        wandlungen = len(w['wandelnde_linien']['positionen'])\n",
    "        muster['wandlungsstatistik']['durchschnitt_wandlungen'] += wandlungen\n",
    "        \n",
    "        for pos in w['wandelnde_linien']['positionen']:\n",
    "            muster['wandlungsstatistik']['häufige_positionen'][pos] = \\\n",
    "                muster['wandlungsstatistik']['häufige_positionen'].get(pos, 0) + 1\n",
    "    \n",
    "    # Durchschnitt berechnen\n",
    "    muster['wandlungsstatistik']['durchschnitt_wandlungen'] /= anzahl\n",
    "    \n",
    "    return muster\n",
    "\n",
    "# Vergleich durchführen\n",
    "vergleichsergebnisse = vergleiche_weissagungen(5)\n",
    "print(\"Vergleichsanalyse von 5 Weissagungen:\")\n",
    "print(json.dumps(vergleichsergebnisse, indent=2, ensure_ascii=False))"
   ]
  },
  {
   "cell_type": "markdown",
   "metadata": {},
   "source": [
    "### 2. Interaktive Weissagungsserie\n",
    "Diese Funktion ermöglicht es, eine Serie von Weissagungen zu einer zusammenhängenden Fragestellung durchzuführen."
   ]
  },
  {
   "cell_type": "markdown",
   "metadata": {},
   "source": [
    "Führt eine Serie von zusammenhängenden Weissagungen durch.\n"
   ]
  },
  {
   "cell_type": "code",
   "execution_count": 5,
   "metadata": {},
   "outputs": [],
   "source": [
    "hauptfrage = \"Werde ich es heute schaffen?\""
   ]
  },
  {
   "cell_type": "code",
   "execution_count": null,
   "metadata": {},
   "outputs": [],
   "source": [
    "print(f\"=== WEISSAGUNGSSERIE ZU: {hauptfrage} ===\\n\")\n",
    "\n",
    "# Oracle im Dialogmodus initialisieren\n",
    "series_oracle = YijingOracle(\n",
    "    api_key=os.environ[\"API_KEY\"],\n",
    "    custom_settings={\n",
    "        \"consultation_mode\": ConsultationMode.DIALOGUE\n",
    "    }\n",
    ")\n",
    "\n",
    "# Neue Konsultation starten\n",
    "series_oracle.start_new_consultation()\n",
    "\n",
    "# Hauptfrage stellen\n",
    "print(\"HAUPTFRAGE:\")\n",
    "antwort = series_oracle.get_response(hauptfrage)\n",
    "display(Markdown(antwort['answer']))"
   ]
  },
  {
   "cell_type": "code",
   "execution_count": 7,
   "metadata": {},
   "outputs": [],
   "source": [
    "nachfrage_1 = \"Sollte zuerst die alten Sachen abarbeiten?\""
   ]
  },
  {
   "cell_type": "code",
   "execution_count": null,
   "metadata": {},
   "outputs": [],
   "source": [
    "print(f\"\\nNACHFRAGE 1:\")\n",
    "print(nachfrage_1)\n",
    "antwort_auf_nachfrage_1 = series_oracle.get_response(nachfrage_1)\n",
    "display(Markdown(antwort_auf_nachfrage_1['answer']))"
   ]
  },
  {
   "cell_type": "code",
   "execution_count": null,
   "metadata": {},
   "outputs": [],
   "source": []
  },
  {
   "cell_type": "code",
   "execution_count": null,
   "metadata": {},
   "outputs": [],
   "source": []
  },
  {
   "cell_type": "code",
   "execution_count": null,
   "metadata": {},
   "outputs": [],
   "source": []
  },
  {
   "cell_type": "code",
   "execution_count": null,
   "metadata": {},
   "outputs": [],
   "source": [
    "\n",
    "# Unterfragen behandeln\n",
    "for i, frage in enumerate(unterfragen, 1):\n",
    "    print(f\"\\nUNTERFRAGE {i}:\")\n",
    "    print(frage)\n",
    "    antwort = series_oracle.get_response(frage)\n",
    "    display(Markdown(antwort['answer']))\n"
   ]
  },
  {
   "cell_type": "code",
   "execution_count": null,
   "metadata": {},
   "outputs": [],
   "source": [
    "\n",
    "# Beispiel einer Weissagungsserie\n",
    "hauptfrage = \"Auf was muss ich nun achten?\"\n",
    "unterfragen = [\n",
    "    \"Welche konkreten Schritte sollte ich als nächstes unternehmen?\",\n",
    "    \"Woher nehme ich die Kraft?\",\n",
    "    \"Wird es mir gelingen?\"\n",
    "]\n",
    "\n",
    "führe_weissagungsserie(hauptfrage, unterfragen)"
   ]
  },
  {
   "cell_type": "code",
   "execution_count": null,
   "metadata": {},
   "outputs": [],
   "source": [
    "def führe_weissagungsserie(hauptfrage: str, unterfragen: List[str]):\n",
    "    \"\"\"Führt eine Serie von zusammenhängenden Weissagungen durch.\"\"\"\n",
    "    print(f\"=== WEISSAGUNGSSERIE ZU: {hauptfrage} ===\\n\")\n",
    "    \n",
    "    # Oracle im Dialogmodus initialisieren\n",
    "    series_oracle = YijingOracle(\n",
    "        api_key=os.environ[\"API_KEY\"],\n",
    "        custom_settings={\n",
    "            \"consultation_mode\": ConsultationMode.DIALOGUE\n",
    "        }\n",
    "    )\n",
    "    \n",
    "    # Neue Konsultation starten\n",
    "    series_oracle.start_new_consultation()\n",
    "    \n",
    "    # Hauptfrage stellen\n",
    "    print(\"HAUPTFRAGE:\")\n",
    "    antwort = series_oracle.get_response(hauptfrage)\n",
    "    display(Markdown(antwort['answer']))\n",
    "    \n",
    "    # Unterfragen behandeln\n",
    "    for i, frage in enumerate(unterfragen, 1):\n",
    "        print(f\"\\nUNTERFRAGE {i}:\")\n",
    "        print(frage)\n",
    "        antwort = series_oracle.get_response(frage)\n",
    "        display(Markdown(antwort['answer']))\n",
    "\n",
    "# Beispiel einer Weissagungsserie\n",
    "hauptfrage = \"Auf was muss ich nun achten?\"\n",
    "unterfragen = [\n",
    "    \"Welche konkreten Schritte sollte ich als nächstes unternehmen?\",\n",
    "    \"Woher nehme ich die Kraft?\",\n",
    "    \"Wird es mir gelingen?\"\n",
    "]\n",
    "\n",
    "führe_weissagungsserie(hauptfrage, unterfragen)"
   ]
  },
  {
   "cell_type": "markdown",
   "metadata": {},
   "source": [
    "# X"
   ]
  },
  {
   "cell_type": "code",
   "execution_count": 2,
   "metadata": {},
   "outputs": [],
   "source": [
    "hauptfrage = \"\"\"Auf was sollten wir während der Aufstellungsversammlung achten?\"\"\""
   ]
  },
  {
   "cell_type": "code",
   "execution_count": null,
   "metadata": {},
   "outputs": [],
   "source": [
    "\"\"\"Führt eine Serie von zusammenhängenden Weissagungen durch.\"\"\"\n",
    "print(f\"=== WEISSAGUNGSSERIE ZU: {hauptfrage} ===\\n\")\n",
    "\n",
    "# Oracle im Dialogmodus initialisieren\n",
    "series_oracle = YijingOracle(\n",
    "    api_key=os.environ[\"API_KEY\"],\n",
    "    custom_settings={\n",
    "        \"consultation_mode\": ConsultationMode.DIALOGUE,\n",
    "        \"model_name\": \"models/gemini-1.5-pro-latest\"\n",
    "    }\n",
    ")\n",
    "\n",
    "# Neue Konsultation starten\n",
    "series_oracle.start_new_consultation()\n",
    "\n",
    "# Hauptfrage stellen\n",
    "print(\"HAUPTFRAGE:\")\n",
    "antwort = series_oracle.get_response(hauptfrage)\n",
    "display(Markdown(antwort['answer']))\n"
   ]
  },
  {
   "cell_type": "code",
   "execution_count": 32,
   "metadata": {},
   "outputs": [],
   "source": [
    "unterfrage_1 = \"xxx\""
   ]
  },
  {
   "cell_type": "code",
   "execution_count": null,
   "metadata": {},
   "outputs": [],
   "source": [
    "print(unterfrage_1)\n",
    "antwort = series_oracle.get_response(unterfrage_1)\n",
    "display(Markdown(antwort['answer']))"
   ]
  },
  {
   "cell_type": "code",
   "execution_count": null,
   "metadata": {},
   "outputs": [],
   "source": []
  },
  {
   "cell_type": "code",
   "execution_count": null,
   "metadata": {},
   "outputs": [],
   "source": []
  },
  {
   "cell_type": "code",
   "execution_count": null,
   "metadata": {},
   "outputs": [],
   "source": [
    "\n",
    "# Unterfragen behandeln\n",
    "for i, frage in enumerate(unterfragen, 1):\n",
    "    print(f\"\\nUNTERFRAGE {i}:\")\n",
    "    print(frage)\n",
    "    antwort = series_oracle.get_response(frage)\n",
    "    display(Markdown(antwort['answer']))\n",
    "\n",
    "# Beispiel einer Weissagungsserie\n",
    "hauptfrage = \"Auf was muss ich nun achten?\"\n",
    "unterfragen = [\n",
    "\"Welche konkreten Schritte sollte ich als nächstes unternehmen?\",\n",
    "\"Woher nehme ich die Kraft?\",\n",
    "\"Wird es mir gelingen?\"\n",
    "]\n",
    "\n",
    "führe_weissagungsserie(hauptfrage, unterfragen)"
   ]
  }
 ],
 "metadata": {
  "kernelspec": {
   "display_name": "gemini_310",
   "language": "python",
   "name": "python3"
  },
  "language_info": {
   "codemirror_mode": {
    "name": "ipython",
    "version": 3
   },
   "file_extension": ".py",
   "mimetype": "text/x-python",
   "name": "python",
   "nbconvert_exporter": "python",
   "pygments_lexer": "ipython3",
   "version": "3.10.15"
  }
 },
 "nbformat": 4,
 "nbformat_minor": 4
}
