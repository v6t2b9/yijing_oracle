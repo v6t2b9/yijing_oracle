{
 "cells": [
  {
   "cell_type": "markdown",
   "metadata": {},
   "source": []
  },
  {
   "cell_type": "markdown",
   "metadata": {},
   "source": [
    "# Texterfassung Steuerzentrale für Yijing"
   ]
  },
  {
   "cell_type": "markdown",
   "metadata": {},
   "source": [
    "## 1. Imports und Konfiguration"
   ]
  },
  {
   "cell_type": "code",
   "execution_count": null,
   "metadata": {},
   "outputs": [],
   "source": [
    "import os\n",
    "import json\n",
    "from pathlib import Path\n",
    "from typing import List, Dict, Any\n",
    "\n",
    "import google.generativeai as genai\n",
    "import pandas as pd\n",
    "from IPython.display import Markdown, display"
   ]
  },
  {
   "cell_type": "markdown",
   "metadata": {},
   "source": [
    "### API-Konfiguration"
   ]
  },
  {
   "cell_type": "code",
   "execution_count": null,
   "metadata": {},
   "outputs": [],
   "source": [
    "# Konfiguration des API-Schlüssels\n",
    "api_key = os.environ.get(\"API_KEY\")\n",
    "if not api_key:\n",
    "    raise ValueError(\"Die Umgebungsvariable 'API_KEY' ist nicht gesetzt.\")\n",
    "genai.configure(api_key=api_key)"
   ]
  },
  {
   "cell_type": "markdown",
   "metadata": {},
   "source": [
    "### Modellwahl"
   ]
  },
  {
   "cell_type": "code",
   "execution_count": null,
   "metadata": {},
   "outputs": [],
   "source": [
    "# Auswahl des Modells\n",
    "model_speed = {\n",
    "    'dumb': 'gemini-1.5-flash-8b',\n",
    "    'fast': 'gemini-1.5-flash-latest',\n",
    "    'clever': 'gemini-1.5-pro-latest',\n",
    "    'experimental': 'gemini-exp-1121',\n",
    "}\n",
    "model_type = os.getenv(\"MODEL_TYPE\", model_speed['clever'])\n",
    "print(\"Verwendetes Modell:\", model_type)"
   ]
  },
  {
   "cell_type": "markdown",
   "metadata": {},
   "source": [
    "## 2. Datenimport"
   ]
  },
  {
   "cell_type": "markdown",
   "metadata": {},
   "source": [
    "### Yijing Text einlesen"
   ]
  },
  {
   "cell_type": "code",
   "execution_count": null,
   "metadata": {},
   "outputs": [],
   "source": [
    "yijing_txt_path = Path('yijing/resources/yijing.txt')\n",
    "\n",
    "# Funktion zum Lesen des Yijing-Texts\n",
    "def read_yijing_txt(path: Path = yijing_txt_path) -> str:\n",
    "    with path.open('r', encoding='utf-8') as f:\n",
    "        return f.read()\n",
    "\n",
    "# Laden der Daten\n",
    "yijing_txt = read_yijing_txt()\n",
    "yijing_chapters = yijing_txt.split('\\n')\n",
    "print(\"Yijing-Text erfolgreich geladen.\")\n",
    "print(\"Anzahl der Kapitel:\", len(yijing_chapters))"
   ]
  },
  {
   "cell_type": "markdown",
   "metadata": {},
   "source": [
    "### Erste Einblicke in die Daten"
   ]
  },
  {
   "cell_type": "code",
   "execution_count": null,
   "metadata": {},
   "outputs": [],
   "source": [
    "# Anzeige der ersten 500 Zeichen des Yijing-Texts\n",
    "print(yijing_chapters[51])"
   ]
  },
  {
   "cell_type": "markdown",
   "metadata": {},
   "source": [
    "## 3. Datenverarbeitung"
   ]
  },
  {
   "cell_type": "markdown",
   "metadata": {},
   "source": [
    "### Strukturierter JSON-Text des ersten Kapitels"
   ]
  },
  {
   "cell_type": "code",
   "execution_count": null,
   "metadata": {},
   "outputs": [],
   "source": [
    "yijing_processed = \"\"\"\n",
    "{\n",
    "  \"hexagram\": {\n",
    "    \"name\": \"GUAI / DER DURCHBRUCH\",\n",
    "    \"subtitle\": \"Die Entschlossenheit\",\n",
    "    \"trigrams\": {\n",
    "      \"above\": {\n",
    "        \"name\": \"Dui\",\n",
    "        \"attributes\": \"das Heitere, der See\"\n",
    "      },\n",
    "      \"below\": {\n",
    "        \"name\": \"Kien\",\n",
    "        \"attributes\": \"das Schöpferische, der Himmel\"\n",
    "      }\n",
    "    },\n",
    "    \"meaning\": {\n",
    "      \"description\": \"Das Zeichen bedeutet einerseits einen Durchbruch nach lange angesammelter Spannung, wie den Durchbruch eines geschwellten Flusses durch seine Dämme, wie einen Wolkenbruch. Auf menschliche Verhältnisse übertragen, ist es andererseits die Zeit, da allmählich die Gemeinen im Schwinden sind. Ihr Einfluß ist im Abnehmen, und durch eine entschlossene Aktion kommt eine Änderung der Verhältnisse zum Durchbruch.\",\n",
    "      \"season\": \"dritter Monat (April-Mai)\"\n",
    "    }\n",
    "  },\n",
    "  \"judgment\": {\n",
    "    \"description\": \"Der Durchbruch. Entschlossen muß man am Hof des Königs die Sache bekanntmachen. Der Wahrheit gemäß muß sie verkündet werden. Gefahr! Man muß seine eigene Stadt benachrichtigen. Nicht fördernd ist es, zu den Waffen zu greifen. Fördernd ist es, etwas zu unternehmen.\",\n",
    "    \"analysis\": [\n",
    "      \"Leidenschaft und Vernunft können nicht zusammen bestehen, daher ist ein unbedingter Kampf notwendig.\",\n",
    "      \"Entschlossenheit muß auf Stärke und Freundlichkeit beruhen.\",\n",
    "      \"Kompromisse mit dem Schlechten sind nicht möglich.\",\n",
    "      \"Der Kampf darf nicht direkt durch Gewalt geführt werden.\",\n",
    "      \"Der Edle beginnt bei sich selbst, um das Böse zu entwaffnen.\"\n",
    "    ]\n",
    "  },\n",
    "  \"image\": {\n",
    "    \"description\": \"Der See ist an den Himmel emporgestiegen: das Bild des Durchbruchs.\",\n",
    "    \"lesson\": \"Der Edle spendet Reichtum nach unten hin und scheut es, bei seiner Tugend zu verweilen.\",\n",
    "    \"warning\": \"Sammeln führt zu Zerstreuen; rechtzeitige Vorbereitung kann einem gewaltsamen Zusammenbruch vorbeugen.\"\n",
    "  },\n",
    "  \"lines\": [\n",
    "    {\n",
    "      \"position\": \"Anfangs eine\",\n",
    "      \"text\": \"Mächtig in den vorwärtsschreitenden Zehen. Geht man hin und ist der Sache nicht gewachsen, so macht man einen Fehler.\",\n",
    "      \"interpretation\": \"Zu Beginn ist entschlossenes Voranschreiten schwierig. Blindes Draufgängertum führt zu unheilvollen Folgen.\"\n",
    "    },\n",
    "    {\n",
    "      \"position\": \"Neun auf zweitem Platz\",\n",
    "      \"text\": \"Alarmruf. Abends und nachts Waffen. Fürchte nichts.\",\n",
    "      \"interpretation\": \"Vorsicht und Wachsamkeit schützen vor Gefahren. Besonnenheit ist der rechte Weg zur Sicherheit.\"\n",
    "    },\n",
    "    {\n",
    "      \"position\": \"Neun auf drittem Platz\",\n",
    "      \"text\": \"Mächtig in den Backenknochen zu sein bringt Unheil.\",\n",
    "      \"interpretation\": \"Entschlossenheit ist notwendig, aber äußere Stärke zur falschen Zeit kann die Lage verschlimmern.\"\n",
    "    },\n",
    "    {\n",
    "      \"position\": \"Neun auf viertem Platz\",\n",
    "      \"text\": \"An den Oberschenkeln ist keine Haut, und das Gehen fällt schwer.\",\n",
    "      \"interpretation\": \"Eigensinn führt zu Konflikten. Würde man Ratschläge annehmen, könnte alles gutgehen.\"\n",
    "    },\n",
    "    {\n",
    "      \"position\": \"Neun auf fünftem Platz\",\n",
    "      \"text\": \"Dem Unkraut gegenüber braucht es feste Entschlossenheit.\",\n",
    "      \"interpretation\": \"Hindernisse müssen mit Entschlossenheit überwunden werden, ohne vom Weg abzukommen.\"\n",
    "    },\n",
    "    {\n",
    "      \"position\": \"Oben eine Sechs\",\n",
    "      \"text\": \"Kein Ruf! Schließlich kommt Unheil.\",\n",
    "      \"interpretation\": \"Nachlässigkeit beim Entfernen des Bösen führt zu erneutem Übel. Gründliche Arbeit ist notwendig.\"\n",
    "    }\n",
    "  ]\n",
    "}\n",
    "\"\"\"\n"
   ]
  },
  {
   "cell_type": "code",
   "execution_count": null,
   "metadata": {},
   "outputs": [],
   "source": [
    "# Umwandlung des JSON-Textes in ein Python-Dictionary\n",
    "yijing_data = json.loads(yijing_processed)\n",
    "print(\"Erstes Kapitel erfolgreich verarbeitet.\")"
   ]
  },
  {
   "cell_type": "code",
   "execution_count": null,
   "metadata": {},
   "outputs": [],
   "source": [
    "#yijing_data"
   ]
  },
  {
   "cell_type": "markdown",
   "metadata": {},
   "source": [
    "## 4. Funktionen zur Verarbeitung eines Hexagramms"
   ]
  },
  {
   "cell_type": "code",
   "execution_count": null,
   "metadata": {},
   "outputs": [],
   "source": [
    "def process_hexagram(text: str, model: genai.GenerativeModel) -> Dict[str, Any]:\n",
    "    \"\"\"\n",
    "    Verarbeitet einen Hexagramm-Text und gibt strukturierte Daten zurück.\n",
    "    \"\"\"\n",
    "    prompt = HEXAGRAM_PROMPT + text\n",
    "    result = model.generate_content(\n",
    "        prompt,\n",
    "        generation_config=genai.GenerationConfig(\n",
    "            response_mime_type=\"application/json\",\n",
    "            response_schema=None  # Verwenden Sie None, wenn kein Schema benötigt wird\n",
    "        ),\n",
    "    )\n",
    "    return result.candidates[0].content"
   ]
  },
  {
   "cell_type": "markdown",
   "metadata": {},
   "source": [
    "## 5. Initialisierung des Modells"
   ]
  },
  {
   "cell_type": "markdown",
   "metadata": {},
   "source": [
    "### Systemanweisung für das Modell"
   ]
  },
  {
   "cell_type": "code",
   "execution_count": null,
   "metadata": {},
   "outputs": [],
   "source": [
    "HEXAGRAM_PROMPT = \"\"\"\n",
    "Du bist ein I Ging-Experte mit der Aufgabe, Hexagramm-Texte zu analysieren und in ein spezifisches JSON-Format zu überführen.\n",
    "\n",
    "Wandle den Eingabetext in folgendes Format um:\n",
    "\n",
    "{\n",
    "  \"hexagram\": {\n",
    "    \"name\": \"Name des Hexagramms (z.B. 'GUAI / DER DURCHBRUCH')\",\n",
    "    \"subtitle\": \"Untertitel oder Kernbedeutung\", (z.B. 'Die Entschlossenheit')\n",
    "    \"trigrams\": {\n",
    "      \"above\": {\n",
    "        \"name\": \"Name des oberen Trigramms\", (z.B. 'Dui')\n",
    "        \"attributes\": \"Eigenschaften des Trigramms\" (z.B. 'das Heitere, der See')\n",
    "      },\n",
    "      \"below\": {\n",
    "        \"name\": \"Name des unteren Trigramms\", (z.B. 'Kien')\n",
    "        \"attributes\": \"Eigenschaften des Trigramms\" (z.B. 'das Schöpferische, der Himmel')\n",
    "      }\n",
    "    },\n",
    "    \"meaning\": {\n",
    "      \"description\": \"Hauptbedeutung des Hexagramms\", (z.B. 'Das Zeichen bedeutet...')\n",
    "      \"season\": \"Zugeordnete Jahreszeit\" (z.B. 'dritter Monat (April-Mai)')\n",
    "    }\n",
    "  },\n",
    "  \"judgment\": {\n",
    "    \"description\": \"Der Urteilstext\", (z.B. 'Der Durchbruch...')\n",
    "    \"analysis\": [\n",
    "      \"Liste von Analysepunkten zum Urteil\" (z.B. 'Leidenschaft und Vernunft...')\n",
    "    ]\n",
    "  },\n",
    "  \"image\": {\n",
    "    \"description\": \"Beschreibung des Bildes\", (z.B. 'Der See ist an den Himmel emporgestiegen...')\n",
    "    \"lesson\": \"Lehre für den:die Edle:n\", (z.B. 'Der:die Edle spendet Reichtum...')\n",
    "    \"warning\": \"Warnung oder zusätzliche Hinweise\" # (z.B. 'Sammeln führt zu Zerstreuen...')\n",
    "  },\n",
    "  \"lines\": [\n",
    "    {\n",
    "      \"position\": \"Position der Linie\", (z.B. 'Anfangs eine Sechs')\",\n",
    "      \"text\": \"Text der Linie\", z.B. 'Mächtig in den vorwärtsschreitenden Zehen...'\n",
    "      \"interpretation\": \"Interpretation der Linie\", z.B. 'Zu Beginn ist entschlossenes Voranschreiten...'\n",
    "    }\n",
    "  ]\n",
    "}\n",
    "\n",
    "Wichtige Hinweise:\n",
    "1. Extrahiere alle relevanten Informationen aus dem Eingabetext\n",
    "2. Behalte die originale Formulierung wo möglich bei\n",
    "3. Stelle sicher, dass alle Pflichtfelder gefüllt sind\n",
    "4. Das lines-Array muss genau 6 Einträge enthalten\n",
    "5. Füge fehlende Informationen mit \"Keine Information verfügbar\" ein\n",
    "\n",
    "Analysiere nun den folgenden Hexagramm-Text und gib ihn im spezifizierten JSON-Format zurück:\n",
    "\"\"\""
   ]
  },
  {
   "cell_type": "code",
   "execution_count": null,
   "metadata": {},
   "outputs": [],
   "source": [
    "instruction = HEXAGRAM_PROMPT"
   ]
  },
  {
   "cell_type": "code",
   "execution_count": null,
   "metadata": {},
   "outputs": [],
   "source": [
    "# Erstellen des Modells\n",
    "model = genai.GenerativeModel(\n",
    "    model_type,\n",
    "    system_instruction=instruction\n",
    ")\n",
    "\n",
    "# Chat-Instanz starten\n",
    "chat = model.start_chat()\n",
    "print(\"Modell und Chat-Instanz erfolgreich initialisiert.\")"
   ]
  },
  {
   "cell_type": "markdown",
   "metadata": {},
   "source": [
    "## 6. Verarbeitung und Export"
   ]
  },
  {
   "cell_type": "markdown",
   "metadata": {},
   "source": [
    "### Hexagramm verarbeiten und anzeigen"
   ]
  },
  {
   "cell_type": "code",
   "execution_count": null,
   "metadata": {},
   "outputs": [],
   "source": [
    "def process_hexagram_text(hexagram_text: str) -> Dict[str, Any]:\n",
    "    \"\"\"\n",
    "    Verarbeitet einen Hexagramm-Text und gibt strukturierte Daten zurück.\n",
    "\n",
    "    Args:\n",
    "        hexagram_text (str): Der Hexagramm-Text.\n",
    "\n",
    "    Returns:\n",
    "        dict: Strukturierte Daten des Hexagramms.\n",
    "    \"\"\"\n",
    "    result = chat.send_message(hexagram_text)\n",
    "\n",
    "    # Überprüfen, ob die Antwort Teile enthält\n",
    "    if hasattr(result, 'parts') and len(result.parts) > 0:\n",
    "        json_text = result.parts[0].text\n",
    "        # Entfernen von Codeblöcken, falls vorhanden\n",
    "        formatted_text = json_text.strip('```json\\n').strip('```')\n",
    "        \n",
    "        try:\n",
    "            # Laden des JSON in ein Python-Dictionary\n",
    "            data = json.loads(formatted_text)\n",
    "            display(Markdown(\"### Verarbeitetes Hexagramm\"))\n",
    "            display(json.dumps(data, indent=4, ensure_ascii=False))\n",
    "            return data\n",
    "        except json.JSONDecodeError:\n",
    "            print(\"Fehler beim Parsen des JSON.\")\n",
    "    else:\n",
    "        print(\"Keine Antwortteile gefunden.\")\n",
    "    \n",
    "    return {}"
   ]
  },
  {
   "cell_type": "code",
   "execution_count": null,
   "metadata": {},
   "outputs": [],
   "source": [
    "# Beispielhafte Nutzung mit dem ersten Kapitel\n",
    "first_chapter_text = yijing_chapters[0] if 'yijing_chapters' in locals() else yijing_txt[:1000]\n",
    "extracted_hexagram = process_hexagram_text(first_chapter_text)"
   ]
  },
  {
   "cell_type": "markdown",
   "metadata": {},
   "source": [
    "### Speicherung der Daten als JSON"
   ]
  },
  {
   "cell_type": "code",
   "execution_count": null,
   "metadata": {},
   "outputs": [],
   "source": [
    "def save_hexagram_json(hexagram_data: Dict[str, Any], output_dir: Path, filename: str) -> None:\n",
    "    \"\"\"\n",
    "    Speichert die Hexagramm-Daten als JSON-Datei.\n",
    "\n",
    "    Args:\n",
    "        hexagram_data (dict): Strukturierte Hexagramm-Daten.\n",
    "        output_dir (Path): Verzeichnis zum Speichern der JSON-Dateien.\n",
    "        filename (str): Name der JSON-Datei.\n",
    "    \"\"\"\n",
    "    output_dir.mkdir(parents=True, exist_ok=True)\n",
    "    output_file = output_dir / filename\n",
    "    with output_file.open('w', encoding='utf-8') as f:\n",
    "        json.dump(hexagram_data, f, ensure_ascii=False, indent=4)\n",
    "    print(f\"Daten gespeichert unter {output_file}\")"
   ]
  },
  {
   "cell_type": "code",
   "execution_count": null,
   "metadata": {},
   "outputs": [],
   "source": [
    "# Speichern des extrahierten Hexagramms\n",
    "if extracted_hexagram:\n",
    "    save_hexagram_json(extracted_hexagram, Path('export/hexagram_json'), 'hexagram_01.json')"
   ]
  },
  {
   "cell_type": "code",
   "execution_count": null,
   "metadata": {},
   "outputs": [],
   "source": [
    "# Erstellen des Modells\n",
    "model = genai.GenerativeModel(\n",
    "    model_type,\n",
    "    system_instruction=instruction\n",
    ")\n",
    "\n",
    "# Chat-Instanz starten\n",
    "chat = model.start_chat()\n",
    "print(\"Modell und Chat-Instanz erfolgreich initialisiert.\")"
   ]
  },
  {
   "cell_type": "code",
   "execution_count": null,
   "metadata": {},
   "outputs": [],
   "source": [
    "i = 18\n",
    "\n",
    "for chapter in [yijing_chapters[i-1]]:\n",
    "    # Erstellen des Modells\n",
    "    model = genai.GenerativeModel(\n",
    "        model_type,\n",
    "        system_instruction=instruction\n",
    "    )\n",
    "\n",
    "    # Chat-Instanz starten\n",
    "    chat = model.start_chat()\n",
    "    print(\"Modell und Chat-Instanz erfolgreich initialisiert.\")\n",
    "\n",
    "    print(f\"Verarbeite Kapitel {i}...\")\n",
    "    extracted_hexagram = process_hexagram_text(chapter)\n",
    "    print('Kapitel verarbeitet.')\n",
    "    if extracted_hexagram:\n",
    "        save_hexagram_json(extracted_hexagram, Path('export/hexagram_json'), f'hexagram_{i:02d}.json')\n",
    "    i += 1"
   ]
  },
  {
   "cell_type": "markdown",
   "metadata": {},
   "source": [
    "# XXXXXXXXXXX"
   ]
  },
  {
   "cell_type": "code",
   "execution_count": null,
   "metadata": {},
   "outputs": [],
   "source": []
  },
  {
   "cell_type": "code",
   "execution_count": null,
   "metadata": {},
   "outputs": [],
   "source": [
    "# load all json files in export/hexagram_json\n",
    "# and store them in a list\n",
    "hexagram_files = list(Path('export/hexagram_json').glob('*.json'))\n",
    "\n",
    "hexagram_data = []\n",
    "\n",
    "for file in hexagram_files:\n",
    "    with file.open('r', encoding='utf-8') as f:\n",
    "        data = json.load(f)\n",
    "        hexagram_data.append(data)\n",
    "\n",
    "hexagram_data\n"
   ]
  },
  {
   "cell_type": "code",
   "execution_count": null,
   "metadata": {},
   "outputs": [],
   "source": [
    "df = pd.DataFrame(hexagram_data)\n",
    "df.head()"
   ]
  },
  {
   "cell_type": "code",
   "execution_count": null,
   "metadata": {},
   "outputs": [],
   "source": [
    "for col in df.columns:\n",
    "    display(Markdown(f\"### {col}\"))\n",
    "    display(df.loc[0, 'hexagram'])"
   ]
  },
  {
   "cell_type": "code",
   "execution_count": null,
   "metadata": {},
   "outputs": [],
   "source": []
  },
  {
   "cell_type": "code",
   "execution_count": null,
   "metadata": {},
   "outputs": [],
   "source": [
    "df['hexagram']"
   ]
  },
  {
   "cell_type": "code",
   "execution_count": null,
   "metadata": {},
   "outputs": [],
   "source": [
    "# open import/hexagram_linkage.csv in pandas\n",
    "linkage_df = (pd.read_csv('import/hexagram_linkage.csv', sep=';')\n",
    "              .replace('ß', 'ss', regex=True)\n",
    "              .replace('das durchbeissen', 'das durchbeißen', regex=True)\n",
    "            )\n",
    "linkage_df['Alter Name (Deutsch)'] = linkage_df['Alter Name (Deutsch)'].str.lower()\n",
    "linkage_df"
   ]
  },
  {
   "cell_type": "code",
   "execution_count": null,
   "metadata": {},
   "outputs": [],
   "source": [
    "# open import/hexagramme.csv in pandas\n",
    "hexagramme_df = pd.read_csv('import/hexagramme.csv')\n",
    "hexagramme_df"
   ]
  },
  {
   "cell_type": "code",
   "execution_count": null,
   "metadata": {},
   "outputs": [],
   "source": []
  },
  {
   "cell_type": "code",
   "execution_count": null,
   "metadata": {},
   "outputs": [],
   "source": [
    "df = pd.DataFrame(hexagram_data)\n",
    "\n",
    "df_split = (df['hexagram'].apply(pd.Series)\n",
    "            .replace('haftende', 'haftene', regex=True)\n",
    "            .replace('das durchbeissen', 'das durchbeißen', regex=True)\n",
    "            )\n",
    "\n",
    "df_split['Alter Name (Deutsch)'] = df_split['name'].str.split(' / ').str[1].str.lower()\n",
    "\n",
    "df_split = (df_split\n",
    "            .replace('haftende', 'haftene', regex=True)\n",
    "            .replace('das durchbeißen', 'das durchbeissen', regex=True)\n",
    "            .replace('das haftene', 'das haftende', regex=True)\n",
    "            .replace('die wiederkehrt', 'die wiederkehr', regex=True)\n",
    "            )\n",
    "\n",
    "df_merged = df_split.merge(linkage_df,\n",
    "                           left_on='Alter Name (Deutsch)',\n",
    "                           right_on='Alter Name (Deutsch)',\n",
    "                           how='outer',\n",
    "                           indicator=False)\n",
    "\n",
    "df_merged = df_merged.merge(hexagramme_df, on='Nummer', how='outer', indicator=True)\n",
    "\n",
    "#df_split = df_split['meaning'].apply(pd.Series)\n",
    "#df_split = df_split['below'].apply(pd.Series)\n",
    "#df_merged = df_merged[df_merged['_merge'] != 'both']\n",
    "\n",
    "#df_merged = df_merged.iloc[:, :4].T\n",
    "\n",
    "cols = [\n",
    "    'Nummer',    \n",
    "    'name',\n",
    "    #'subtitle',\n",
    "    #'trigrams',\n",
    "    #'meaning',\n",
    "    'Alter Name (Deutsch)',\n",
    "    'Alter Code',\n",
    "    'Neuer Code',\n",
    "    'Vollständiger Name (Deutsch)',\n",
    "    'Bezeichnung',\n",
    "    #'Schriftzeichen',\n",
    "    #'Pīnyīn',\n",
    "    #'Line_Values',\n",
    "    #'Title',\n",
    "    'Hexagram',\n",
    "    'Description',\n",
    "    #'_merge'\n",
    "    ]\n",
    "\n",
    "#df_merged = df_merged.loc[:, cols].set_index('Nummer')\n",
    "df_merged#.columns.to_list()\n",
    "df_merged"
   ]
  },
  {
   "cell_type": "code",
   "execution_count": null,
   "metadata": {},
   "outputs": [],
   "source": [
    "df = df_merged.copy()\n",
    "\n",
    "for col in df.columns:\n",
    "    print(f\"Spalte: {col}\")\n",
    "    print(\"Inhalt:\", df.loc[0, col])\n",
    "    print()"
   ]
  },
  {
   "cell_type": "code",
   "execution_count": null,
   "metadata": {},
   "outputs": [],
   "source": []
  },
  {
   "cell_type": "code",
   "execution_count": null,
   "metadata": {},
   "outputs": [],
   "source": [
    "def export_df_to_json(df: pd.DataFrame, output_file: Optional[Path] = None) -> None:\n",
    "    \"\"\"\n",
    "    Converts DataFrame of hexagram information to our standardized JSON schema format.\n",
    "    \n",
    "    Args:\n",
    "        df: DataFrame containing hexagram information\n",
    "        output_file: Optional path to save JSON file. If None, saves to default location.\n",
    "    \"\"\"\n",
    "    if output_file is None:\n",
    "        output_file = Path(__file__).parent / 'resources' / 'hexagrams.json'\n",
    "\n",
    "    hexagrams = {}\n",
    "    \n",
    "    for _, row in df.iterrows():\n",
    "        hexagram_number = int(row['Nummer'])\n",
    "        \n",
    "        # Process trigrams data\n",
    "        trigrams = eval(row['trigrams']) if isinstance(row['trigrams'], str) else row['trigrams']\n",
    "        \n",
    "        # Process meaning data\n",
    "        meaning_data = eval(row['meaning']) if isinstance(row['meaning'], str) else row['meaning']\n",
    "        \n",
    "        hexagram_data = {\n",
    "            \"number\": hexagram_number,\n",
    "            \"names\": {\n",
    "                \"chinese\": row['Schriftzeichen'],\n",
    "                \"pinyin\": row['Pīnyīn'],\n",
    "                \"german\": row['Bezeichnung'],\n",
    "                \"english\": row['Title'],\n",
    "                \"character\": row['Schriftzeichen'],\n",
    "                \"old_german\": row['Alter Name (Deutsch)'],\n",
    "                \"old_code\": row['Alter Code'],\n",
    "                \"new_code\": row['Neuer Code'],\n",
    "                \"full_german\": row['Vollständiger Name (Deutsch)']\n",
    "            },\n",
    "            \"trigrams\": {\n",
    "                \"above\": {\n",
    "                    \"name\": trigrams['above']['name'],\n",
    "                    \"attributes\": trigrams['above']['attributes']\n",
    "                },\n",
    "                \"below\": {\n",
    "                    \"name\": trigrams['below']['name'],\n",
    "                    \"attributes\": trigrams['below']['attributes']\n",
    "                }\n",
    "            },\n",
    "            \"technical\": {\n",
    "                \"line_values\": row['Line_Values'],\n",
    "                \"unicode_symbol\": row['Hexagram']\n",
    "            },\n",
    "            \"meaning\": {\n",
    "                \"description\": meaning_data['description'],\n",
    "                \"season\": meaning_data.get('season'),\n",
    "                \"subtitle\": row['subtitle']\n",
    "            },\n",
    "            \"descriptions\": {\n",
    "                \"main\": row['Description'],\n",
    "                \"traditional\": meaning_data['description']\n",
    "            }\n",
    "        }\n",
    "        \n",
    "        hexagrams[hexagram_number] = hexagram_data\n",
    "\n",
    "    # Ensure the output directory exists\n",
    "    output_file.parent.mkdir(parents=True, exist_ok=True)\n",
    "\n",
    "    # Save to JSON file with proper formatting and encoding\n",
    "    with open(output_file, 'w', encoding='utf-8') as f:\n",
    "        json.dump(hexagrams, f, ensure_ascii=False, indent=2)\n",
    "\n",
    "    print(f\"Successfully exported hexagram data to {output_file}\")"
   ]
  },
  {
   "cell_type": "code",
   "execution_count": null,
   "metadata": {},
   "outputs": [],
   "source": [
    "output_path = Path('export/hexagrams_test_01.json')\n",
    "\n",
    "df = df_merged.copy()\n",
    "\n",
    "export_df_to_json(df, output_path)"
   ]
  },
  {
   "cell_type": "code",
   "execution_count": null,
   "metadata": {},
   "outputs": [],
   "source": []
  },
  {
   "cell_type": "code",
   "execution_count": null,
   "metadata": {},
   "outputs": [],
   "source": [
    "# utils.py\n",
    "\n",
    "import pandas as pd\n",
    "from pathlib import Path\n",
    "from typing import Dict, Optional\n",
    "import json\n",
    "from yijing.interpretations import HexagramInterpretation, YijingInterpretations\n",
    "\n",
    "def load_hexagram_data() -> Dict[int, HexagramInterpretation]:\n",
    "    \"\"\"\n",
    "    Loads and validates hexagram data from JSON storage.\n",
    "    \n",
    "    Returns:\n",
    "        Dict[int, HexagramInterpretation]: Dictionary of validated hexagram interpretations\n",
    "    \n",
    "    Raises:\n",
    "        FileNotFoundError: If hexagram data file is not found\n",
    "        ValidationError: If data doesn't match expected schema\n",
    "    \"\"\"\n",
    "    resources_dir = Path(__file__).parent / 'resources'\n",
    "    hexagram_file = resources_dir / 'hexagrams.json'\n",
    "    \n",
    "    if not hexagram_file.exists():\n",
    "        raise FileNotFoundError(f\"Hexagram data file not found: {hexagram_file}\")\n",
    "        \n",
    "    with open(hexagram_file, 'r', encoding='utf-8') as f:\n",
    "        data = json.load(f)\n",
    "        \n",
    "    return {\n",
    "        int(num): HexagramInterpretation(**hexagram_data)\n",
    "        for num, hexagram_data in data.items()\n",
    "    }\n",
    "\n",
    "def export_df_to_json(df: pd.DataFrame, output_file: Optional[Path] = None) -> None:\n",
    "    \"\"\"\n",
    "    Converts DataFrame of hexagram information to our JSON schema format.\n",
    "    \n",
    "    Args:\n",
    "        df: DataFrame containing hexagram information\n",
    "        output_file: Optional path to save JSON file. If None, saves to default location.\n",
    "    \"\"\"\n",
    "    if output_file is None:\n",
    "        output_file = Path(__file__).parent / 'resources' / 'hexagrams.json'\n",
    "        \n",
    "    # Transform DataFrame to our schema format\n",
    "    hexagrams = {}\n",
    "    for _, row in df.iterrows():\n",
    "        hexagram_number = int(row['Nummer'])\n",
    "        \n",
    "        # Extract trigram information\n",
    "        trigrams = eval(row['trigrams']) if isinstance(row['trigrams'], str) else row['trigrams']\n",
    "        \n",
    "        hexagrams[hexagram_number] = {\n",
    "            \"number\": hexagram_number,\n",
    "            \"name_chinese\": row['Schriftzeichen'],\n",
    "            \"name_pinyin\": row['Pīnyīn'],\n",
    "            \"name_german\": row['Vollständiger Name (Deutsch)'],\n",
    "            \"name_wilhelm\": row['Alter Code'],\n",
    "            \"name_modern\": row['Title'],\n",
    "            \"subtitle\": row['subtitle'],\n",
    "            \"binary_sequence\": row['Line_Values'],\n",
    "            \"unicode_symbol\": row['Hexagram'],\n",
    "            \"upper_trigram\": trigrams['above'],\n",
    "            \"lower_trigram\": trigrams['below'] if 'below' in trigrams else None,\n",
    "            \"judgement\": {\n",
    "                \"wilhelm_text\": row['meaning']['description'] if isinstance(row['meaning'], dict) else \"\"\n",
    "            }\n",
    "        }\n",
    "    \n",
    "    # Save to JSON file\n",
    "    with open(output_file, 'w', encoding='utf-8') as f:\n",
    "        json.dump(hexagrams, f, ensure_ascii=False, indent=2)"
   ]
  },
  {
   "cell_type": "code",
   "execution_count": null,
   "metadata": {},
   "outputs": [],
   "source": []
  },
  {
   "cell_type": "code",
   "execution_count": null,
   "metadata": {},
   "outputs": [],
   "source": [
    "df = df_merged.copy()  # Your existing DataFrame\n",
    "export_df_to_json(df, 'export/hexagrams_test.json')"
   ]
  },
  {
   "cell_type": "code",
   "execution_count": null,
   "metadata": {},
   "outputs": [],
   "source": []
  },
  {
   "cell_type": "code",
   "execution_count": null,
   "metadata": {},
   "outputs": [],
   "source": [
    "# tools/convert_hexagram_data.py\n",
    "\n",
    "import json\n",
    "from pathlib import Path\n",
    "from typing import Dict\n",
    "\n",
    "def convert_hexagram_data(input_json: str, output_dir: Path) -> None:\n",
    "    \"\"\"\n",
    "    Converts single JSON file to individual hexagram files.\n",
    "    \n",
    "    Args:\n",
    "        input_json: Path to input JSON file\n",
    "        output_dir: Directory for output files\n",
    "    \"\"\"\n",
    "    # Create output directories\n",
    "    hex_dir = output_dir / 'hexagrams'\n",
    "    hex_dir.mkdir(parents=True, exist_ok=True)\n",
    "    \n",
    "    # Load input data\n",
    "    with open(input_json) as f:\n",
    "        data = json.load(f)\n",
    "    \n",
    "    # Process each hexagram\n",
    "    binary_index = {}\n",
    "    for num, hex_data in enumerate(data, start=1):\n",
    "        # Add binary sequence if not present\n",
    "        if 'binary_sequence' not in hex_data:\n",
    "            hex_data['binary_sequence'] = format(num-1, '06b')\n",
    "        \n",
    "        # Update index\n",
    "        binary_index[hex_data['binary_sequence']] = num\n",
    "        \n",
    "        # Save individual file\n",
    "        output_file = hex_dir / f'{num:02d}.json'\n",
    "        with open(output_file, 'w', encoding='utf-8') as f:\n",
    "            json.dump(hex_data, f, indent=2, ensure_ascii=False)\n",
    "    \n",
    "    # Save index\n",
    "    with open(output_dir / 'index.json', 'w') as f:\n",
    "        json.dump(binary_index, f, indent=2)\n"
   ]
  },
  {
   "cell_type": "code",
   "execution_count": null,
   "metadata": {},
   "outputs": [],
   "source": [
    "\n",
    "if __name__ == '__main__':\n",
    "    input_file = 'hexagrams.json'\n",
    "    output_dir = Path('data')\n",
    "    convert_hexagram_data(input_file, output_dir)"
   ]
  },
  {
   "cell_type": "code",
   "execution_count": null,
   "metadata": {},
   "outputs": [],
   "source": []
  },
  {
   "cell_type": "code",
   "execution_count": null,
   "metadata": {},
   "outputs": [],
   "source": []
  },
  {
   "cell_type": "code",
   "execution_count": null,
   "metadata": {},
   "outputs": [],
   "source": []
  },
  {
   "cell_type": "code",
   "execution_count": null,
   "metadata": {},
   "outputs": [],
   "source": [
    "df_split = df['hexagram'].apply(pd.Series)\n",
    "    \n",
    "i = 0\n",
    "\n",
    "for index, row in df_split.iterrows():\n",
    "    print(index, row['name'])"
   ]
  },
  {
   "cell_type": "code",
   "execution_count": null,
   "metadata": {},
   "outputs": [],
   "source": [
    "# open import/hexagramme.csv in pandas\n",
    "df_hexagramme = pd.read_csv('import/hexagramme.csv')\n",
    "df_hexagramme.iloc[:, [0,1,-2]].to_markdown()"
   ]
  },
  {
   "cell_type": "code",
   "execution_count": null,
   "metadata": {},
   "outputs": [],
   "source": []
  },
  {
   "cell_type": "code",
   "execution_count": null,
   "metadata": {},
   "outputs": [],
   "source": []
  },
  {
   "cell_type": "code",
   "execution_count": null,
   "metadata": {},
   "outputs": [],
   "source": []
  },
  {
   "cell_type": "markdown",
   "metadata": {},
   "source": [
    "### Export der Linien in ein DataFrame"
   ]
  },
  {
   "cell_type": "code",
   "execution_count": null,
   "metadata": {},
   "outputs": [],
   "source": [
    "def export_lines_to_dataframe(hexagram_data: Dict[str, Any]) -> pd.DataFrame:\n",
    "    \"\"\"\n",
    "    Exportiert die Linien eines Hexagramms in ein pandas DataFrame.\n",
    "\n",
    "    Args:\n",
    "        hexagram_data (dict): Strukturierte Hexagramm-Daten.\n",
    "\n",
    "    Returns:\n",
    "        pd.DataFrame: DataFrame mit den Linieninformationen.\n",
    "    \"\"\"\n",
    "    lines = hexagram_data.get('lines', [])\n",
    "    lines_df = pd.DataFrame(lines)\n",
    "    return lines_df\n",
    "\n",
    "# Erstellen des DataFrames\n",
    "lines_df = export_lines_to_dataframe(extracted_hexagram)\n",
    "display(lines_df)"
   ]
  },
  {
   "cell_type": "markdown",
   "metadata": {},
   "source": [
    "## 7. Zusätzliche Analysen (Optional)"
   ]
  },
  {
   "cell_type": "markdown",
   "metadata": {},
   "source": [
    "### Beispiel: Analyse der Interpretationen"
   ]
  },
  {
   "cell_type": "code",
   "execution_count": null,
   "metadata": {},
   "outputs": [],
   "source": [
    "if not lines_df.empty:\n",
    "    from collections import Counter\n",
    "    import re\n",
    "    \n",
    "    # Zusammenführen aller Interpretationen\n",
    "    all_interpretations = ' '.join(lines_df['interpretation'].dropna().tolist())\n",
    "    \n",
    "    # Extrahieren von Wörtern\n",
    "    words = re.findall(r'\\w+', all_interpretations.lower())\n",
    "    word_counts = Counter(words)\n",
    "    \n",
    "    # Anzeige der häufigsten Wörter\n",
    "    common_words = word_counts.most_common(10)\n",
    "    common_df = pd.DataFrame(common_words, columns=['Wort', 'Häufigkeit'])\n",
    "    display(Markdown(\"### Häufigste Wörter in den Interpretationen\"))\n",
    "    display(common_df)"
   ]
  },
  {
   "cell_type": "markdown",
   "metadata": {},
   "source": [
    "# Ende des Notebooks"
   ]
  }
 ],
 "metadata": {
  "kernelspec": {
   "display_name": "gemini_310",
   "language": "python",
   "name": "python3"
  },
  "language_info": {
   "codemirror_mode": {
    "name": "ipython",
    "version": 3
   },
   "file_extension": ".py",
   "mimetype": "text/x-python",
   "name": "python",
   "nbconvert_exporter": "python",
   "pygments_lexer": "ipython3",
   "version": "3.10.15"
  }
 },
 "nbformat": 4,
 "nbformat_minor": 2
}
