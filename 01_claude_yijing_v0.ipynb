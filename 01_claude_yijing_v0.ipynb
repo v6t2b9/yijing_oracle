{
 "cells": [
  {
   "cell_type": "markdown",
   "metadata": {},
   "source": [
    "# Import"
   ]
  },
  {
   "cell_type": "code",
   "execution_count": null,
   "metadata": {},
   "outputs": [],
   "source": [
    "import os\n",
    "from yijing import YijingOracle, OracleSettings\n",
    "from yijing.oracle import ask_oracle\n",
    "\n",
    "from IPython.display import display\n",
    "from IPython.display import Markdown\n",
    "\n",
    "api_key = os.environ['API_KEY']# = 'Ihr-API-Key-hier'  # Ersetzen Sie dies durch Ihren tatsächlichen API-Key\n"
   ]
  },
  {
   "cell_type": "code",
   "execution_count": null,
   "metadata": {},
   "outputs": [],
   "source": [
    "question = \"Wie wird mein Tag heute?\"\n",
    "respnse = ask_oracle(question, api_key)"
   ]
  },
  {
   "cell_type": "code",
   "execution_count": null,
   "metadata": {},
   "outputs": [],
   "source": [
    "Markdown(respnse['answer'])"
   ]
  },
  {
   "cell_type": "code",
   "execution_count": null,
   "metadata": {},
   "outputs": [],
   "source": []
  },
  {
   "cell_type": "code",
   "execution_count": null,
   "metadata": {},
   "outputs": [],
   "source": []
  },
  {
   "cell_type": "code",
   "execution_count": null,
   "metadata": {},
   "outputs": [],
   "source": [
    "# Oder die Klasse für mehr Kontrolle:\n",
    "oracle = YijingOracle(api_key)\n",
    "result = oracle.get_response(\"Wie wird mein Tag heute?\")"
   ]
  },
  {
   "cell_type": "code",
   "execution_count": null,
   "metadata": {},
   "outputs": [],
   "source": []
  },
  {
   "cell_type": "markdown",
   "metadata": {},
   "source": [
    "# Initialisierung"
   ]
  },
  {
   "cell_type": "code",
   "execution_count": null,
   "metadata": {},
   "outputs": [],
   "source": [
    "custom_settings = {\n",
    "    \"active_model\": \"gemini-1.5-pro\",\n",
    "    \"system_prompt\": \"Du bist ein weiser I-Ging Berater...\",\n",
    "    \"debug\": True,\n",
    "    \"temperature\": 0.9,\n",
    "    \"max_tokens\": 1024\n",
    "}\n",
    "\n",
    "# API-Key direkt übergeben\n",
    "oracle = YijingOracle(\n",
    "    api_key=api_key,\n",
    "    custom_settings=custom_settings\n",
    ")"
   ]
  },
  {
   "cell_type": "code",
   "execution_count": null,
   "metadata": {},
   "outputs": [],
   "source": [
    "oracle = YijingOracle(api_key=api_key)\n",
    "response = oracle.get_response(\"Was sollte ich bei meiner aktuellen beruflichen Situation beachten?\")"
   ]
  },
  {
   "cell_type": "code",
   "execution_count": null,
   "metadata": {},
   "outputs": [],
   "source": [
    "display(Markdown(response['answer']))"
   ]
  }
 ],
 "metadata": {
  "kernelspec": {
   "display_name": "gemini_310",
   "language": "python",
   "name": "python3"
  },
  "language_info": {
   "codemirror_mode": {
    "name": "ipython",
    "version": 3
   },
   "file_extension": ".py",
   "mimetype": "text/x-python",
   "name": "python",
   "nbconvert_exporter": "python",
   "pygments_lexer": "ipython3",
   "version": "3.10.15"
  }
 },
 "nbformat": 4,
 "nbformat_minor": 4
}
