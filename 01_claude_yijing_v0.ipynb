{
 "cells": [
  {
   "cell_type": "markdown",
   "metadata": {},
   "source": [
    "# Import"
   ]
  },
  {
   "cell_type": "code",
   "execution_count": null,
   "metadata": {},
   "outputs": [],
   "source": [
    "import os\n",
    "from yijing import YijingOracle, OracleSettings\n",
    "#from yijing.oracle import ask_oracle\n",
    "\n",
    "from IPython.display import display\n",
    "from IPython.display import Markdown\n",
    "\n",
    "api_key = os.environ['API_KEY']# = 'Ihr-API-Key-hier'  # Ersetzen Sie dies durch Ihren tatsächlichen API-Key\n"
   ]
  },
  {
   "cell_type": "code",
   "execution_count": null,
   "metadata": {},
   "outputs": [],
   "source": [
    "# In 01_claude_yijing_v0.ipynb\n",
    "\n",
    "# Example of using single-response mode\n",
    "custom_settings = {\n",
    "    \"active_model\": \"models/gemini-1.5-flash\",\n",
    "    \"system_prompt\": \"Du bist ein weiser I-Ging Berater...\",\n",
    "    \"consultation_mode\": \"single\"  # or ConsultationMode.SINGLE if imported\n",
    "}\n"
   ]
  },
  {
   "cell_type": "code",
   "execution_count": null,
   "metadata": {},
   "outputs": [],
   "source": [
    "\n",
    "oracle_single = YijingOracle(\n",
    "    api_key=api_key,\n",
    "    custom_settings=custom_settings\n",
    ")\n"
   ]
  },
  {
   "cell_type": "code",
   "execution_count": null,
   "metadata": {},
   "outputs": [],
   "source": [
    "\n",
    "# Example of using dialogue mode\n",
    "dialogue_settings = {\n",
    "    **custom_settings,\n",
    "    \"consultation_mode\": \"dialogue\"  # or ConsultationMode.DIALOGUE if imported\n",
    "}\n"
   ]
  },
  {
   "cell_type": "code",
   "execution_count": null,
   "metadata": {},
   "outputs": [],
   "source": [
    "\n",
    "oracle_dialogue = YijingOracle(\n",
    "    api_key=api_key,\n",
    "    custom_settings=dialogue_settings\n",
    ")\n"
   ]
  },
  {
   "cell_type": "code",
   "execution_count": null,
   "metadata": {},
   "outputs": [],
   "source": [
    "\n",
    "# Example of a consultation session in dialogue mode\n",
    "oracle_dialogue.start_new_consultation()\n"
   ]
  },
  {
   "cell_type": "code",
   "execution_count": null,
   "metadata": {},
   "outputs": [],
   "source": []
  },
  {
   "cell_type": "code",
   "execution_count": null,
   "metadata": {},
   "outputs": [],
   "source": [
    "first_response = oracle_dialogue.get_response(\"Was bedeutet das erste Hexagramm für meine Situation?\")\n"
   ]
  },
  {
   "cell_type": "code",
   "execution_count": null,
   "metadata": {},
   "outputs": [],
   "source": [
    "first_response"
   ]
  },
  {
   "cell_type": "code",
   "execution_count": null,
   "metadata": {},
   "outputs": [],
   "source": [
    "follow_up_response = oracle_dialogue.get_response(\"Und was bedeutet die zweite sich wandelnde Linie?\")"
   ]
  },
  {
   "cell_type": "code",
   "execution_count": null,
   "metadata": {},
   "outputs": [],
   "source": []
  },
  {
   "cell_type": "code",
   "execution_count": null,
   "metadata": {},
   "outputs": [],
   "source": []
  },
  {
   "cell_type": "code",
   "execution_count": null,
   "metadata": {},
   "outputs": [],
   "source": [
    "from yijing.oracle import ask_oracle"
   ]
  },
  {
   "cell_type": "code",
   "execution_count": null,
   "metadata": {},
   "outputs": [],
   "source": [
    "response = ask_oracle('Wie wird das Wetter morgen?', api_key)"
   ]
  },
  {
   "cell_type": "code",
   "execution_count": null,
   "metadata": {},
   "outputs": [],
   "source": [
    "response['answer']"
   ]
  },
  {
   "cell_type": "code",
   "execution_count": null,
   "metadata": {},
   "outputs": [],
   "source": []
  },
  {
   "cell_type": "code",
   "execution_count": null,
   "metadata": {},
   "outputs": [],
   "source": []
  },
  {
   "cell_type": "code",
   "execution_count": null,
   "metadata": {},
   "outputs": [],
   "source": [
    "# In 01_claude_yijing_v0.ipynb\n",
    "\n",
    "custom_settings = {\n",
    "    \"system_prompt\": \"Du bist ein weiser I-Ging Berater...\",\n",
    "    \"active_model\": \"models/gemini-1.5-flash\",\n",
    "}\n",
    "\n",
    "oracle = YijingOracle(\n",
    "    api_key=api_key,\n",
    "    custom_settings=custom_settings\n",
    ")"
   ]
  },
  {
   "cell_type": "code",
   "execution_count": null,
   "metadata": {},
   "outputs": [],
   "source": [
    "question = \"Wie wird mein Tag heute?\"\n",
    "respnse = ask_oracle(question, api_key)"
   ]
  },
  {
   "cell_type": "code",
   "execution_count": null,
   "metadata": {},
   "outputs": [],
   "source": [
    "Markdown(respnse['answer'])"
   ]
  },
  {
   "cell_type": "code",
   "execution_count": null,
   "metadata": {},
   "outputs": [],
   "source": []
  },
  {
   "cell_type": "code",
   "execution_count": null,
   "metadata": {},
   "outputs": [],
   "source": []
  },
  {
   "cell_type": "code",
   "execution_count": null,
   "metadata": {},
   "outputs": [],
   "source": [
    "# Oder die Klasse für mehr Kontrolle:\n",
    "oracle = YijingOracle(api_key)\n",
    "result = oracle.get_response(\"Wie wird mein Tag heute?\")"
   ]
  },
  {
   "cell_type": "code",
   "execution_count": null,
   "metadata": {},
   "outputs": [],
   "source": []
  }
 ],
 "metadata": {
  "kernelspec": {
   "display_name": "gemini_310",
   "language": "python",
   "name": "python3"
  },
  "language_info": {
   "codemirror_mode": {
    "name": "ipython",
    "version": 3
   },
   "file_extension": ".py",
   "mimetype": "text/x-python",
   "name": "python",
   "nbconvert_exporter": "python",
   "pygments_lexer": "ipython3",
   "version": "3.10.15"
  }
 },
 "nbformat": 4,
 "nbformat_minor": 4
}
