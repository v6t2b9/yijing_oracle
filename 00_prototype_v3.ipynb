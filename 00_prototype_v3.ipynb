{
 "cells": [
  {
   "cell_type": "code",
   "execution_count": null,
   "metadata": {},
   "outputs": [],
   "source": [
    "from YijingGenerator.oracle import YijingOracle\n",
    "import config"
   ]
  },
  {
   "cell_type": "code",
   "execution_count": null,
   "metadata": {},
   "outputs": [],
   "source": [
    "config.API_KEY"
   ]
  },
  {
   "cell_type": "code",
   "execution_count": null,
   "metadata": {},
   "outputs": [],
   "source": []
  },
  {
   "cell_type": "code",
   "execution_count": null,
   "metadata": {},
   "outputs": [],
   "source": [
    "oracle = YijingOracle().load_settings()\n"
   ]
  },
  {
   "cell_type": "code",
   "execution_count": null,
   "metadata": {},
   "outputs": [],
   "source": [
    "print(f\"Aktives Modell: {oracle.active_model}\")\n"
   ]
  },
  {
   "cell_type": "code",
   "execution_count": null,
   "metadata": {},
   "outputs": [],
   "source": []
  },
  {
   "cell_type": "code",
   "execution_count": null,
   "metadata": {},
   "outputs": [],
   "source": []
  },
  {
   "cell_type": "code",
   "execution_count": null,
   "metadata": {},
   "outputs": [],
   "source": []
  },
  {
   "cell_type": "code",
   "execution_count": null,
   "metadata": {},
   "outputs": [],
   "source": [
    "# YijingOracle initialisieren\n",
    "oracle = YijingOracle(api_key=config.api_key)"
   ]
  },
  {
   "cell_type": "code",
   "execution_count": null,
   "metadata": {},
   "outputs": [],
   "source": [
    "# Eine Frage an das Orakel stellen\n",
    "frage = \"Auf was sollte ich heute noch achten?\""
   ]
  },
  {
   "cell_type": "code",
   "execution_count": null,
   "metadata": {},
   "outputs": [],
   "source": [
    "# Asynchrone Antwort erhalten\n",
    "antwort = oracle.get_response(frage)"
   ]
  },
  {
   "cell_type": "code",
   "execution_count": null,
   "metadata": {},
   "outputs": [],
   "source": [
    "print(f\"Deine Frage: {frage}\")\n",
    "print(f\"Orakel-Antwort: {antwort}\")"
   ]
  },
  {
   "cell_type": "code",
   "execution_count": null,
   "metadata": {},
   "outputs": [],
   "source": [
    "antwort"
   ]
  },
  {
   "cell_type": "code",
   "execution_count": null,
   "metadata": {},
   "outputs": [],
   "source": []
  },
  {
   "cell_type": "code",
   "execution_count": null,
   "metadata": {},
   "outputs": [],
   "source": []
  },
  {
   "cell_type": "code",
   "execution_count": null,
   "metadata": {},
   "outputs": [],
   "source": []
  },
  {
   "cell_type": "code",
   "execution_count": null,
   "metadata": {},
   "outputs": [],
   "source": [
    "config.api_key"
   ]
  },
  {
   "cell_type": "code",
   "execution_count": null,
   "metadata": {},
   "outputs": [],
   "source": [
    "import asyncio\n",
    "from yijing_oracle import YijingOracle\n",
    "\n",
    "async def main():\n",
    "    # YijingOracle initialisieren\n",
    "    # Option 1: API-Key direkt übergeben\n",
    "    oracle = YijingOracle(api_key=config.api_key)\n",
    "    \n",
    "    # Option 2: Oder API-Key als Umgebungsvariable setzen\n",
    "    # import os\n",
    "    # os.environ[\"API_KEY\"] = \"dein-api-key-hier\"\n",
    "    # oracle = YijingOracle()\n",
    "    \n",
    "    try:\n",
    "        # Eine Frage an das Orakel stellen\n",
    "        frage = \"Was bringt mir das neue Jahr?\"\n",
    "        \n",
    "        # Asynchrone Antwort erhalten\n",
    "        antwort = await oracle.get_response(frage)\n",
    "        \n",
    "        print(f\"Deine Frage: {frage}\")\n",
    "        print(f\"Orakel-Antwort: {antwort}\")\n",
    "        \n",
    "    except ValueError as e:\n",
    "        print(f\"Konfigurationsfehler: {e}\")\n",
    "    except RuntimeError as e:\n",
    "        print(f\"Fehler bei der Ausführung: {e}\")\n",
    "    except Exception as e:\n",
    "        print(f\"Unerwarteter Fehler: {e}\")\n",
    "\n",
    "# Ausführung des asyncio-Hauptprogramms\n",
    "if __name__ == \"__main__\":\n",
    "    asyncio.run(main())"
   ]
  },
  {
   "cell_type": "code",
   "execution_count": null,
   "metadata": {},
   "outputs": [],
   "source": []
  },
  {
   "cell_type": "code",
   "execution_count": null,
   "metadata": {},
   "outputs": [],
   "source": []
  },
  {
   "cell_type": "code",
   "execution_count": null,
   "metadata": {},
   "outputs": [],
   "source": [
    "from YijingGenerator.oracle import YijingOracle\n",
    "import config"
   ]
  },
  {
   "cell_type": "code",
   "execution_count": null,
   "metadata": {},
   "outputs": [],
   "source": [
    " config.api_key"
   ]
  },
  {
   "cell_type": "code",
   "execution_count": null,
   "metadata": {},
   "outputs": [],
   "source": [
    "dir(YijingOracle)"
   ]
  },
  {
   "cell_type": "code",
   "execution_count": null,
   "metadata": {},
   "outputs": [],
   "source": []
  },
  {
   "cell_type": "code",
   "execution_count": null,
   "metadata": {},
   "outputs": [],
   "source": [
    "\n",
    "# Verwendung:\n",
    "oracle = YijingOracle()\n",
    "settings = YijingSettings()\n",
    "\n",
    "# Option 2: Absoluter Import mit vollständigem Projektpfad\n",
    "import sys\n",
    "sys.path.append('/pfad/zu/deinem/projektordner')\n",
    "\n",
    "from yijing.oracle import YijingOracle\n",
    "from yijing.config import YijingSettings\n",
    "\n",
    "# Option 3: Wenn dein Modul als Paket installiert ist\n",
    "# (nach dem Ausführen von pip install -e . im Projektordner)\n",
    "from yijing.oracle import YijingOracle\n",
    "from yijing.config import YijingSettings\n",
    "\n",
    "# Beispiel für die Verwendung:\n",
    "oracle = YijingOracle()\n",
    "\n",
    "# Zugriff auf Einstellungen:\n",
    "print(f\"Aktives Modell: {oracle.settings.active_model}\")\n",
    "print(f\"System Prompt: {oracle.settings.system_prompt[:100]}...\")  # Zeigt die ersten 100 Zeichen\n",
    "\n",
    "# Beispiel für eine Anfrage:\n",
    "antwort = oracle.get_response(\"Wie wird das Wetter morgen?\")\n",
    "print(antwort)"
   ]
  },
  {
   "cell_type": "code",
   "execution_count": null,
   "metadata": {},
   "outputs": [],
   "source": []
  }
 ],
 "metadata": {
  "kernelspec": {
   "display_name": "gemini_310",
   "language": "python",
   "name": "python3"
  },
  "language_info": {
   "codemirror_mode": {
    "name": "ipython",
    "version": 3
   },
   "file_extension": ".py",
   "mimetype": "text/x-python",
   "name": "python",
   "nbconvert_exporter": "python",
   "pygments_lexer": "ipython3",
   "version": "3.10.15"
  }
 },
 "nbformat": 4,
 "nbformat_minor": 2
}
