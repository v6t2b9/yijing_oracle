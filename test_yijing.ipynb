{
 "cells": [
  {
   "cell_type": "markdown",
   "metadata": {},
   "source": [
    "# Comprehensive Testing of Yijing Oracle System\n",
    "\n",
    "This notebook provides a systematic approach to testing the Yijing Oracle implementation, demonstrating both basic functionality and advanced features. We'll proceed through initialization, configuration, and various consultation scenarios."
   ]
  },
  {
   "cell_type": "code",
   "execution_count": null,
   "metadata": {},
   "outputs": [],
   "source": [
    "from yijing import YijingOracle, ask_oracle, settings, ConsultationMode, LogLevel, ResourceType"
   ]
  },
  {
   "cell_type": "code",
   "execution_count": null,
   "metadata": {},
   "outputs": [],
   "source": [
    "import os\n",
    "from pathlib import Path\n",
    "import sys\n",
    "import logging\n",
    "\n",
    "# Add project directory to Python path\n",
    "project_dir = Path.cwd().parent\n",
    "sys.path.append(str(project_dir))\n",
    "\n",
    "from yijing import (\n",
    "    YijingOracle,\n",
    "    ask_oracle,\n",
    "    settings,\n",
    "    ConsultationMode,\n",
    "    LogLevel,\n",
    "    ResourceType\n",
    ")"
   ]
  },
  {
   "cell_type": "markdown",
   "metadata": {},
   "source": [
    "## System Configuration and Initialization"
   ]
  },
  {
   "cell_type": "code",
   "execution_count": null,
   "metadata": {},
   "outputs": [],
   "source": [
    "# Configure system settings\n",
    "settings.log_level = LogLevel.DEBUG\n",
    "settings.consultation_mode = ConsultationMode.SINGLE\n",
    "\n",
    "print(f\"System Configuration:\")\n",
    "print(f\"Model Name: {settings.model_name}\")\n",
    "print(f\"Consultation Mode: {settings.consultation_mode}\")\n",
    "print(f\"Log Level: {settings.log_level}\")\n",
    "print(f\"Resources Directory: {settings.resources_dir}\")"
   ]
  },
  {
   "cell_type": "markdown",
   "metadata": {},
   "source": [
    "## Basic Oracle Consultation"
   ]
  },
  {
   "cell_type": "code",
   "execution_count": null,
   "metadata": {},
   "outputs": [],
   "source": [
    "# Demonstrate simple oracle consultation\n",
    "question = \"What opportunities should I focus on today?\"\n",
    "response = ask_oracle(question)\n",
    "\n",
    "print(\"Oracle Response:\")\n",
    "print(f\"\\nQuestion: {question}\")\n",
    "print(f\"\\nAnswer: {response['answer']}\")\n",
    "print(\"\\nHexagram Information:\")\n",
    "for key, value in response['hypergram_data'].items():\n",
    "    print(f\"{key}: {value}\")"
   ]
  },
  {
   "cell_type": "markdown",
   "metadata": {},
   "source": [
    "## Advanced Dialogue Consultation"
   ]
  },
  {
   "cell_type": "code",
   "execution_count": null,
   "metadata": {},
   "outputs": [],
   "source": [
    "# Initialize oracle for dialogue mode\n",
    "settings.consultation_mode = ConsultationMode.DIALOGUE\n",
    "oracle = YijingOracle()\n",
    "\n",
    "# Start a consultation session\n",
    "oracle.start_new_consultation()\n",
    "\n",
    "# Conduct a multi-step consultation\n",
    "questions = [\n",
    "    \"What does the initial hexagram suggest about my current situation?\",\n",
    "    \"How should I interpret the changing lines?\",\n",
    "    \"What guidance does the resulting hexagram offer?\"\n",
    "]\n",
    "\n",
    "for i, question in enumerate(questions, 1):\n",
    "    print(f\"\\nQuestion {i}: {question}\")\n",
    "    response = oracle.get_response(question)\n",
    "    print(f\"\\nAnswer: {response['answer']}\")"
   ]
  },
  {
   "cell_type": "markdown",
   "metadata": {},
   "source": [
    "## Resource Verification"
   ]
  },
  {
   "cell_type": "code",
   "execution_count": null,
   "metadata": {},
   "outputs": [],
   "source": [
    "# Verify system resources\n",
    "resources = settings.load_resources()\n",
    "\n",
    "print(\"Resource Status:\")\n",
    "for resource_name, content in resources.items():\n",
    "    print(f\"\\n{resource_name}:\")\n",
    "    print(f\"Content Length: {len(content)} characters\")\n",
    "    preview_length = 150\n",
    "    print(f\"Preview: {content[:preview_length]}...\")"
   ]
  }
 ],
 "metadata": {
  "kernelspec": {
   "display_name": "Python 3",
   "language": "python",
   "name": "python3"
  }
 },
 "nbformat": 4,
 "nbformat_minor": 4
}
