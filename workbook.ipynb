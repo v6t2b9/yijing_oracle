{
 "cells": [
  {
   "cell_type": "markdown",
   "metadata": {},
   "source": [
    "# Yijing Oracle Development Notebook\n",
    "\n",
    "Dieses Notebook dient der systematischen Entwicklung und dem Testing des Yijing Oracle Moduls. Wir werden Schritt für Schritt die Komponenten testen und verfeinern.\n",
    "\n",
    "## Inhaltsverzeichnis\n",
    "1. Setup und Grundkonfiguration\n",
    "2. Basismodelle testen (Linien, Hexagramme)\n",
    "3. Orakel-Funktionalität testen\n",
    "4. Integration mit GenAI API\n",
    "5. End-to-End Tests\n",
    "\n",
    "Legen wir los!"
   ]
  },
  {
   "cell_type": "markdown",
   "metadata": {},
   "source": [
    "## 1. Setup und Grundkonfiguration\n",
    "\n",
    "Zuerst importieren wir die notwendigen Module und setzen die Grundkonfiguration."
   ]
  },
  {
   "cell_type": "code",
   "execution_count": null,
   "metadata": {},
   "outputs": [],
   "source": [
    "import os\n",
    "import sys\n",
    "from pathlib import Path\n",
    "import logging\n",
    "import json\n",
    "\n",
    "from yijing.managers import HexagramManager\n",
    "from IPython.display import display, Markdown\n",
    "\n",
    "# Füge den Projektordner zum Python-Path hinzu\n",
    "project_dir = Path.cwd().parent  # Passe dies an deine Struktur an\n",
    "sys.path.append(str(project_dir))\n",
    "\n",
    "# Konfiguriere Logging\n",
    "logging.basicConfig(level=logging.DEBUG)\n",
    "\n",
    "# Importiere das yijing Modul\n",
    "from yijing.models import HypergramLine, Hexagram, Hypergram\n",
    "from yijing.hypergram import cast_hypergram\n",
    "from yijing.oracle import YijingOracle\n",
    "from yijing.enums import ConsultationMode\n",
    "\n",
    "print(\"Setup erfolgreich abgeschlossen!\")"
   ]
  },
  {
   "cell_type": "code",
   "execution_count": null,
   "metadata": {},
   "outputs": [],
   "source": [
    "# Initialize resources directory\n",
    "resources_dir = Path.cwd() / 'yijing' / 'resources'\n",
    "\n",
    "# Create manager instance\n",
    "manager = HexagramManager(resources_dir)\n",
    "\n",
    "# Test code for the notebook\n",
    "try:\n",
    "    # Create reading context\n",
    "    context = manager.create_reading_context(\n",
    "        original_hex_num=1,\n",
    "        changing_lines=[3, 6],\n",
    "        resulting_hex_num=2\n",
    "    )\n",
    "    \n",
    "    # Generate consultation prompt\n",
    "    test_prompt = manager.get_consultation_prompt(\n",
    "        context=context,\n",
    "        question=\"Was sollte ich in meiner aktuellen Situation beachten?\"\n",
    "    )\n",
    "    \n",
    "    #print(test_prompt[:400])\n",
    "    display(Markdown(test_prompt))\n",
    "\n",
    "except Exception as e:\n",
    "    print(f\"Fehler beim Testen: {e}\")"
   ]
  },
  {
   "cell_type": "markdown",
   "metadata": {},
   "source": [
    "## 2. Basismodelle testen\n",
    "\n",
    "Hier testen wir die grundlegenden Modelle wie HypergramLine, Hexagram etc."
   ]
  },
  {
   "cell_type": "code",
   "execution_count": null,
   "metadata": {},
   "outputs": [],
   "source": [
    "# Test: HypergramLine erstellen und Eigenschaften prüfen\n",
    "def test_hypergram_line():\n",
    "    # Teste verschiedene Linientypen\n",
    "    lines = [\n",
    "        HypergramLine(value=6),  # Changing Yin\n",
    "        HypergramLine(value=7),  # Stable Yang\n",
    "        HypergramLine(value=8),  # Stable Yin\n",
    "        HypergramLine(value=9)   # Changing Yang\n",
    "    ]\n",
    "    \n",
    "    for line in lines:\n",
    "        print(f\"\\nLine value: {line.value}\")\n",
    "        print(f\"Is Yin: {line.is_yin()}\")\n",
    "        print(f\"Is Yang: {line.is_yang()}\")\n",
    "        print(f\"Is Changing: {line.is_changing()}\")\n",
    "        print(f\"Unicode Symbol: {line.to_unicode_symbol()}\")\n",
    "\n",
    "test_hypergram_line()"
   ]
  },
  {
   "cell_type": "markdown",
   "metadata": {},
   "source": [
    "## 3. Orakel-Funktionalität testen\n",
    "\n",
    "Jetzt testen wir die Hauptfunktionalität des Orakels."
   ]
  },
  {
   "cell_type": "code",
   "execution_count": null,
   "metadata": {},
   "outputs": [],
   "source": [
    "# Neue Zelle im Workbook\n",
    "\n",
    "import os\n",
    "import json\n",
    "from pathlib import Path\n",
    "from typing import Dict, Any, Optional\n",
    "from functools import lru_cache\n",
    "\n",
    "# Projektverzeichnis bestimmen\n",
    "project_dir = Path.cwd()#.parent  # Ein Verzeichnis höher, da wir im workbook/ sind\n",
    "resources_dir = project_dir / 'yijing' / 'resources'\n",
    "\n",
    "@lru_cache(maxsize=64)  # Caching für bessere Performance\n",
    "def load_hexagram_data(hexagram_number: int) -> Dict[str, Any]:\n",
    "    \"\"\"\n",
    "    Lädt die JSON-Daten für ein spezifisches Hexagramm.\n",
    "    \n",
    "    Args:\n",
    "        hexagram_number: Nummer des Hexagramms (1-64)\n",
    "        \n",
    "    Returns:\n",
    "        Dict mit den Hexagramm-Daten\n",
    "        \n",
    "    Raises:\n",
    "        FileNotFoundError: Wenn die Hexagramm-Datei nicht gefunden wird\n",
    "    \"\"\"\n",
    "    hexagram_file = resources_dir / 'hexagram_json' / f'hexagram_{hexagram_number:02d}.json'\n",
    "    \n",
    "    if not hexagram_file.exists():\n",
    "        raise FileNotFoundError(f\"Hexagramm-Datei nicht gefunden: {hexagram_file}\")\n",
    "        \n",
    "    with open(hexagram_file, 'r', encoding='utf-8') as f:\n",
    "        return json.load(f)\n",
    "\n",
    "# Test der Funktion und Verzeichnisstruktur\n",
    "print(f\"Projektverzeichnis: {project_dir}\")\n",
    "print(f\"Resources Verzeichnis: {resources_dir}\")\n",
    "print(f\"Resources Verzeichnis existiert: {resources_dir.exists()}\")\n",
    "\n",
    "try:\n",
    "    hexagram_1 = load_hexagram_data(1)\n",
    "    print(f\"\\nHexagramm 1 geladen: {hexagram_1['hexagram']['name']}\")\n",
    "except Exception as e:\n",
    "    print(f\"\\nFehler beim Laden: {e}\")"
   ]
  },
  {
   "cell_type": "code",
   "execution_count": null,
   "metadata": {},
   "outputs": [],
   "source": [
    "# API Key setzen (ersetze dies durch deinen tatsächlichen Key)\n",
    "api_key = os.environ[\"API_KEY\"]\n",
    "\n",
    "# Oracle initialisieren\n",
    "oracle = YijingOracle()\n",
    "\n",
    "# Test: Einfache Anfrage\n",
    "response = oracle.get_response(\"Was sollte ich heute beachten?\")\n",
    "print(\"Oracle Antwort:\")\n",
    "print(response['answer'])"
   ]
  },
  {
   "cell_type": "markdown",
   "metadata": {},
   "source": [
    "## 4. Integration mit GenAI API\n",
    "\n",
    "Hier testen wir die Integration mit der Google GenAI API."
   ]
  },
  {
   "cell_type": "code",
   "execution_count": null,
   "metadata": {},
   "outputs": [],
   "source": [
    "# Test: Dialog-Modus\n",
    "oracle_dialogue = YijingOracle(\n",
    "    custom_settings={\n",
    "        \"consultation_mode\": ConsultationMode.DIALOGUE\n",
    "    }\n",
    ")\n",
    "\n",
    "# Starte eine neue Beratung\n",
    "oracle_dialogue.start_new_consultation()\n",
    "response = oracle_dialogue.get_response(\"Wie kann ich meine aktuelle Situation verbessern?\")\n",
    "print(\"Dialog-Antwort:\")\n",
    "print(response['answer'])"
   ]
  },
  {
   "cell_type": "markdown",
   "metadata": {},
   "source": [
    "## 5. End-to-End Tests\n",
    "\n",
    "Abschließend führen wir einige End-to-End Tests durch."
   ]
  },
  {
   "cell_type": "code",
   "execution_count": null,
   "metadata": {},
   "outputs": [],
   "source": [
    "def run_end_to_end_test():\n",
    "    print(\"Starting End-to-End Test...\\n\")\n",
    "    \n",
    "    # 1. Hypergram werfen\n",
    "    hypergram_data = cast_hypergram()\n",
    "    print(\"Geworfenes Hypergram:\")\n",
    "    print(f\"Altes Hexagramm: {hypergram_data.old_hexagram.to_unicode_representation()}\")\n",
    "    print(f\"Neues Hexagramm: {hypergram_data.new_hexagram.to_unicode_representation()}\")\n",
    "    print(f\"Wandelnde Linien: {hypergram_data.changing_lines}\\n\")\n",
    "    \n",
    "    # 2. Oracle Antwort generieren\n",
    "    response = oracle.get_response(\"Wie soll ich mit Veränderungen umgehen?\")\n",
    "    print(\"Oracle Antwort:\")\n",
    "    print(response['answer'])\n",
    "\n",
    "run_end_to_end_test()"
   ]
  },
  {
   "cell_type": "markdown",
   "metadata": {},
   "source": [
    "## Nächste Schritte\n",
    "\n",
    "1. Fehlerbehandlung verbessern\n",
    "2. Tests für Edge Cases hinzufügen\n",
    "3. Dokumentation erweitern\n",
    "4. Performance optimieren\n",
    "\n",
    "Notiere hier Beobachtungen und nötige Anpassungen:"
   ]
  }
 ],
 "metadata": {
  "kernelspec": {
   "display_name": "gemini_310",
   "language": "python",
   "name": "python3"
  },
  "language_info": {
   "codemirror_mode": {
    "name": "ipython",
    "version": 3
   },
   "file_extension": ".py",
   "mimetype": "text/x-python",
   "name": "python",
   "nbconvert_exporter": "python",
   "pygments_lexer": "ipython3",
   "version": "3.10.15"
  }
 },
 "nbformat": 4,
 "nbformat_minor": 4
}
