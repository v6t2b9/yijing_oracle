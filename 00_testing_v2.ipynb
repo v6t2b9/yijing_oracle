{
 "cells": [
  {
   "cell_type": "markdown",
   "metadata": {},
   "source": [
    "# Yijing Modul Testnotebook\n",
    "\n",
    "Dieses Notebook dient zum systematischen Testen der Kernfunktionalität des Yijing-Moduls.\n",
    "Wir fokussieren uns auf:\n",
    "\n",
    "1. Grundfunktionalität\n",
    "2. Fehlerbehandlung\n",
    "3. Modell-Integration\n",
    "4. Formatierung und Ausgabe\n",
    "\n",
    "## Setup"
   ]
  },
  {
   "cell_type": "code",
   "execution_count": null,
   "metadata": {},
   "outputs": [],
   "source": [
    "import sys\n",
    "from pathlib import Path\n",
    "import logging\n",
    "import json\n",
    "from pprint import pprint\n",
    "from IPython.display import display, Markdown\n",
    "\n",
    "# Logging Setup\n",
    "logging.basicConfig(\n",
    "    level=logging.DEBUG,\n",
    "    format='%(asctime)s - %(name)s - %(levelname)s - %(message)s'\n",
    ")\n",
    "\n",
    "# Füge Projektpfad zum Python-Path hinzu\n",
    "project_dir = Path.cwd().parent  # Annahme: Notebook ist im notebooks/ Verzeichnis\n",
    "if str(project_dir) not in sys.path:\n",
    "    sys.path.insert(0, str(project_dir))"
   ]
  },
  {
   "cell_type": "markdown",
   "metadata": {},
   "source": [
    "## 1. Test der Grundfunktionalität\n",
    "\n",
    "Wir testen zuerst die Basisfunktionen des Moduls."
   ]
  },
  {
   "cell_type": "code",
   "execution_count": null,
   "metadata": {},
   "outputs": [],
   "source": [
    "from yijing import YijingOracle, ModelType\n",
    "\n",
    "def test_basic_functionality():\n",
    "    \"\"\"Test der grundlegenden Orakel-Funktionen\"\"\"\n",
    "    \n",
    "    # Initialisiere Oracle mit Ollama\n",
    "    custom_settings = {\n",
    "        \"model_type\": ModelType.OLLAMA,\n",
    "        \"active_model\": \"llama2:latest\",\n",
    "        \"debug\": True\n",
    "    }\n",
    "    \n",
    "    oracle = YijingOracle(custom_settings=custom_settings)\n",
    "    \n",
    "    # Teste eine einfache Anfrage\n",
    "    test_question = \"Was sagt das I Ging über Veränderung?\"\n",
    "    response = oracle.get_response(test_question)\n",
    "    \n",
    "    # Prüfe Antwortstruktur\n",
    "    expected_keys = {'answer', 'hypergram_data', 'hexagram_context', 'timestamp'}\n",
    "    actual_keys = set(response.keys())\n",
    "    \n",
    "    print(\"=== Strukturtest ===\")\n",
    "    print(f\"Erwartete Schlüssel vorhanden: {expected_keys.issubset(actual_keys)}\")\n",
    "    print(\"\\n=== Antwort ===\")\n",
    "    display(Markdown(response['answer']))\n",
    "    \n",
    "    return response\n",
    "\n",
    "response = test_basic_functionality()"
   ]
  },
  {
   "cell_type": "markdown",
   "metadata": {},
   "source": [
    "## 2. Detailanalyse der Antwort\n",
    "\n",
    "Untersuchen wir die verschiedenen Komponenten der Antwort genauer."
   ]
  },
  {
   "cell_type": "code",
   "execution_count": null,
   "metadata": {},
   "outputs": [],
   "source": [
    "def analyze_response(response):\n",
    "    \"\"\"Analysiert die verschiedenen Aspekte der Orakel-Antwort\"\"\"\n",
    "    \n",
    "    print(\"=== Hexagramm-Kontext ===\")\n",
    "    context = response['hexagram_context']\n",
    "    print(f\"Ursprüngliches Hexagramm: {context['original']}\")\n",
    "    print(f\"Wandelnde Linien: {context['changing_lines']}\")\n",
    "    print(f\"Resultierendes Hexagramm: {context['resulting']}\")\n",
    "    \n",
    "    print(\"\\n=== Hypergram-Daten ===\")\n",
    "    hypergram = response['hypergram_data']\n",
    "    print(\"Linien-Werte:\")\n",
    "    for i, line in enumerate(hypergram['hypergram']['lines'], 1):\n",
    "        print(f\"Linie {i}: {line['value']}\")\n",
    "\n",
    "analyze_response(response)"
   ]
  },
  {
   "cell_type": "markdown",
   "metadata": {},
   "source": [
    "## 3. Fehlerbehandlungs-Tests\n",
    "\n",
    "Testen wir, wie das System auf verschiedene Fehlersituationen reagiert."
   ]
  },
  {
   "cell_type": "code",
   "execution_count": null,
   "metadata": {},
   "outputs": [],
   "source": [
    "def test_error_handling():\n",
    "    \"\"\"Teste verschiedene Fehlersituationen\"\"\"\n",
    "    \n",
    "    custom_settings = {\n",
    "        \"model_type\": ModelType.OLLAMA,\n",
    "        \"active_model\": \"llama2:latest\"\n",
    "    }\n",
    "    oracle = YijingOracle(custom_settings=custom_settings)\n",
    "    \n",
    "    print(\"=== Fehlerbehandlungs-Tests ===\")\n",
    "    \n",
    "    # Test 1: Leere Frage\n",
    "    try:\n",
    "        oracle.get_response(\"\")\n",
    "        print(\"❌ Leere Frage wurde akzeptiert\")\n",
    "    except ValueError as e:\n",
    "        print(f\"✓ Leere Frage korrekt abgefangen: {e}\")\n",
    "    \n",
    "    # Test 2: Sehr lange Frage\n",
    "    long_question = \"Warum? \" * 1000\n",
    "    try:\n",
    "        oracle.get_response(long_question)\n",
    "        print(\"❌ Übermäßig lange Frage wurde akzeptiert\")\n",
    "    except ValueError as e:\n",
    "        print(f\"✓ Lange Frage korrekt abgefangen: {e}\")\n",
    "\n",
    "test_error_handling()"
   ]
  },
  {
   "cell_type": "markdown",
   "metadata": {},
   "source": [
    "## 4. Konsistenztest\n",
    "\n",
    "Prüfen wir die Konsistenz der Antworten über mehrere Anfragen."
   ]
  },
  {
   "cell_type": "code",
   "execution_count": null,
   "metadata": {},
   "outputs": [],
   "source": [
    "def test_consistency():\n",
    "    \"\"\"Teste die Konsistenz der Antworten\"\"\"\n",
    "    \n",
    "    custom_settings = {\n",
    "        \"model_type\": ModelType.OLLAMA,\n",
    "        \"active_model\": \"llama2:latest\"\n",
    "    }\n",
    "    oracle = YijingOracle(custom_settings=custom_settings)\n",
    "    \n",
    "    # Gleiche Frage mehrmals stellen\n",
    "    question = \"Was bringt die Zukunft?\"\n",
    "    responses = [oracle.get_response(question) for _ in range(3)]\n",
    "    \n",
    "    print(\"=== Konsistenztest ===\")\n",
    "    print(\"Prüfe drei aufeinanderfolgende Antworten:\")\n",
    "    \n",
    "    for i, response in enumerate(responses, 1):\n",
    "        context = response['hexagram_context']\n",
    "        print(f\"\\nAntwort {i}:\")\n",
    "        print(f\"Original: {context['original']}\")\n",
    "        print(f\"Wandlungen: {len(context['changing_lines'])}\")\n",
    "        print(f\"Resultat: {context['resulting']}\")\n",
    "\n",
    "test_consistency()"
   ]
  },
  {
   "cell_type": "markdown",
   "metadata": {},
   "source": [
    "## 5. Formatierungstest\n",
    "\n",
    "Überprüfen wir die Markdown-Formatierung der Antworten."
   ]
  },
  {
   "cell_type": "code",
   "execution_count": null,
   "metadata": {},
   "outputs": [],
   "source": [
    "def test_formatting():\n",
    "    \"\"\"Teste die Markdown-Formatierung\"\"\"\n",
    "    \n",
    "    custom_settings = {\n",
    "        \"model_type\": ModelType.OLLAMA,\n",
    "        \"active_model\": \"llama2:latest\"\n",
    "    }\n",
    "    oracle = YijingOracle(custom_settings=custom_settings)\n",
    "    \n",
    "    response = oracle.get_response(\"Wie formatiert das System die Antwort?\")\n",
    "    \n",
    "    print(\"=== Formatierungstest ===\")\n",
    "    print(\"Rohe Antwort:\")\n",
    "    print(response['answer'][:500] + \"...\")\n",
    "    \n",
    "    print(\"\\nFormatierte Antwort:\")\n",
    "    display(Markdown(response['answer']))\n",
    "\n",
    "test_formatting()"
   ]
  },
  {
   "cell_type": "markdown",
   "metadata": {},
   "source": [
    "## Zusammenfassung\n",
    "\n",
    "Dieses Notebook hilft uns, die wichtigsten Aspekte des Yijing-Moduls zu testen und zu validieren:\n",
    "\n",
    "1. ✓ Grundlegende Funktionalität\n",
    "2. ✓ Fehlerbehandlung\n",
    "3. ✓ Konsistenz der Antworten\n",
    "4. ✓ Formatierung und Darstellung\n",
    "\n",
    "### Nächste Schritte\n",
    "\n",
    "- Performance-Optimierung\n",
    "- Erweiterte Fehlerszenarien\n",
    "- Spezielle Anwendungsfälle\n",
    "- Benutzerfeedback integrieren"
   ]
  }
 ],
 "metadata": {
  "kernelspec": {
   "display_name": "Python 3",
   "language": "python",
   "name": "python3"
  }
 },
 "nbformat": 4,
 "nbformat_minor": 4
}